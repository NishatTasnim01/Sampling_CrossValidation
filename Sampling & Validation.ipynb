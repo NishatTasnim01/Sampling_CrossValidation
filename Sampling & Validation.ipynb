{
 "cells": [
  {
   "cell_type": "code",
   "execution_count": 1,
   "id": "5ef6885b",
   "metadata": {},
   "outputs": [],
   "source": [
    "import pandas as pd\n",
    "import numpy as np\n",
    "import seaborn as sns\n",
    "import matplotlib.pyplot as plt\n",
    "\n",
    "import warnings\n",
    "warnings.filterwarnings('ignore')"
   ]
  },
  {
   "cell_type": "code",
   "execution_count": 2,
   "id": "7ba74b6f",
   "metadata": {},
   "outputs": [],
   "source": [
    "df = pd.read_excel('new Churn.xlsx')"
   ]
  },
  {
   "cell_type": "code",
   "execution_count": 3,
   "id": "1621a957",
   "metadata": {},
   "outputs": [
    {
     "data": {
      "text/html": [
       "<div>\n",
       "<style scoped>\n",
       "    .dataframe tbody tr th:only-of-type {\n",
       "        vertical-align: middle;\n",
       "    }\n",
       "\n",
       "    .dataframe tbody tr th {\n",
       "        vertical-align: top;\n",
       "    }\n",
       "\n",
       "    .dataframe thead th {\n",
       "        text-align: right;\n",
       "    }\n",
       "</style>\n",
       "<table border=\"1\" class=\"dataframe\">\n",
       "  <thead>\n",
       "    <tr style=\"text-align: right;\">\n",
       "      <th></th>\n",
       "      <th>Unnamed: 0</th>\n",
       "      <th>gender</th>\n",
       "      <th>SeniorCitizen</th>\n",
       "      <th>Partner</th>\n",
       "      <th>Dependents</th>\n",
       "      <th>tenure</th>\n",
       "      <th>PhoneService</th>\n",
       "      <th>MultipleLines</th>\n",
       "      <th>InternetService</th>\n",
       "      <th>OnlineSecurity</th>\n",
       "      <th>...</th>\n",
       "      <th>DeviceProtection</th>\n",
       "      <th>TechSupport</th>\n",
       "      <th>StreamingTV</th>\n",
       "      <th>StreamingMovies</th>\n",
       "      <th>Contract</th>\n",
       "      <th>PaperlessBilling</th>\n",
       "      <th>PaymentMethod</th>\n",
       "      <th>MonthlyCharges</th>\n",
       "      <th>TotalCharges</th>\n",
       "      <th>Churn</th>\n",
       "    </tr>\n",
       "  </thead>\n",
       "  <tbody>\n",
       "    <tr>\n",
       "      <th>0</th>\n",
       "      <td>6607</td>\n",
       "      <td>1</td>\n",
       "      <td>0</td>\n",
       "      <td>0</td>\n",
       "      <td>1</td>\n",
       "      <td>1</td>\n",
       "      <td>0</td>\n",
       "      <td>1</td>\n",
       "      <td>0</td>\n",
       "      <td>0</td>\n",
       "      <td>...</td>\n",
       "      <td>0</td>\n",
       "      <td>0</td>\n",
       "      <td>0</td>\n",
       "      <td>0</td>\n",
       "      <td>0</td>\n",
       "      <td>1</td>\n",
       "      <td>2</td>\n",
       "      <td>25.30</td>\n",
       "      <td>2153</td>\n",
       "      <td>1</td>\n",
       "    </tr>\n",
       "    <tr>\n",
       "      <th>1</th>\n",
       "      <td>2598</td>\n",
       "      <td>0</td>\n",
       "      <td>0</td>\n",
       "      <td>0</td>\n",
       "      <td>0</td>\n",
       "      <td>7</td>\n",
       "      <td>1</td>\n",
       "      <td>0</td>\n",
       "      <td>1</td>\n",
       "      <td>0</td>\n",
       "      <td>...</td>\n",
       "      <td>2</td>\n",
       "      <td>0</td>\n",
       "      <td>0</td>\n",
       "      <td>0</td>\n",
       "      <td>0</td>\n",
       "      <td>1</td>\n",
       "      <td>2</td>\n",
       "      <td>75.15</td>\n",
       "      <td>4396</td>\n",
       "      <td>0</td>\n",
       "    </tr>\n",
       "    <tr>\n",
       "      <th>2</th>\n",
       "      <td>2345</td>\n",
       "      <td>0</td>\n",
       "      <td>0</td>\n",
       "      <td>0</td>\n",
       "      <td>1</td>\n",
       "      <td>4</td>\n",
       "      <td>1</td>\n",
       "      <td>0</td>\n",
       "      <td>2</td>\n",
       "      <td>1</td>\n",
       "      <td>...</td>\n",
       "      <td>1</td>\n",
       "      <td>1</td>\n",
       "      <td>1</td>\n",
       "      <td>1</td>\n",
       "      <td>0</td>\n",
       "      <td>1</td>\n",
       "      <td>0</td>\n",
       "      <td>20.05</td>\n",
       "      <td>6211</td>\n",
       "      <td>0</td>\n",
       "    </tr>\n",
       "    <tr>\n",
       "      <th>3</th>\n",
       "      <td>4093</td>\n",
       "      <td>0</td>\n",
       "      <td>0</td>\n",
       "      <td>0</td>\n",
       "      <td>0</td>\n",
       "      <td>29</td>\n",
       "      <td>1</td>\n",
       "      <td>2</td>\n",
       "      <td>1</td>\n",
       "      <td>0</td>\n",
       "      <td>...</td>\n",
       "      <td>0</td>\n",
       "      <td>0</td>\n",
       "      <td>0</td>\n",
       "      <td>0</td>\n",
       "      <td>0</td>\n",
       "      <td>1</td>\n",
       "      <td>1</td>\n",
       "      <td>76.00</td>\n",
       "      <td>1850</td>\n",
       "      <td>0</td>\n",
       "    </tr>\n",
       "    <tr>\n",
       "      <th>4</th>\n",
       "      <td>693</td>\n",
       "      <td>0</td>\n",
       "      <td>0</td>\n",
       "      <td>0</td>\n",
       "      <td>0</td>\n",
       "      <td>3</td>\n",
       "      <td>1</td>\n",
       "      <td>2</td>\n",
       "      <td>1</td>\n",
       "      <td>0</td>\n",
       "      <td>...</td>\n",
       "      <td>0</td>\n",
       "      <td>0</td>\n",
       "      <td>0</td>\n",
       "      <td>0</td>\n",
       "      <td>0</td>\n",
       "      <td>1</td>\n",
       "      <td>1</td>\n",
       "      <td>75.10</td>\n",
       "      <td>2350</td>\n",
       "      <td>1</td>\n",
       "    </tr>\n",
       "  </tbody>\n",
       "</table>\n",
       "<p>5 rows × 21 columns</p>\n",
       "</div>"
      ],
      "text/plain": [
       "   Unnamed: 0  gender  SeniorCitizen  Partner  Dependents  tenure  \\\n",
       "0        6607       1              0        0           1       1   \n",
       "1        2598       0              0        0           0       7   \n",
       "2        2345       0              0        0           1       4   \n",
       "3        4093       0              0        0           0      29   \n",
       "4         693       0              0        0           0       3   \n",
       "\n",
       "   PhoneService  MultipleLines  InternetService  OnlineSecurity  ...  \\\n",
       "0             0              1                0               0  ...   \n",
       "1             1              0                1               0  ...   \n",
       "2             1              0                2               1  ...   \n",
       "3             1              2                1               0  ...   \n",
       "4             1              2                1               0  ...   \n",
       "\n",
       "   DeviceProtection  TechSupport  StreamingTV  StreamingMovies  Contract  \\\n",
       "0                 0            0            0                0         0   \n",
       "1                 2            0            0                0         0   \n",
       "2                 1            1            1                1         0   \n",
       "3                 0            0            0                0         0   \n",
       "4                 0            0            0                0         0   \n",
       "\n",
       "   PaperlessBilling  PaymentMethod  MonthlyCharges  TotalCharges  Churn  \n",
       "0                 1              2           25.30          2153      1  \n",
       "1                 1              2           75.15          4396      0  \n",
       "2                 1              0           20.05          6211      0  \n",
       "3                 1              1           76.00          1850      0  \n",
       "4                 1              1           75.10          2350      1  \n",
       "\n",
       "[5 rows x 21 columns]"
      ]
     },
     "execution_count": 3,
     "metadata": {},
     "output_type": "execute_result"
    }
   ],
   "source": [
    "df.head()"
   ]
  },
  {
   "cell_type": "markdown",
   "id": "abb001c0",
   "metadata": {},
   "source": [
    "# Data Analysis"
   ]
  },
  {
   "cell_type": "code",
   "execution_count": 4,
   "id": "d627ae1f",
   "metadata": {},
   "outputs": [
    {
     "data": {
      "text/html": [
       "<div>\n",
       "<style scoped>\n",
       "    .dataframe tbody tr th:only-of-type {\n",
       "        vertical-align: middle;\n",
       "    }\n",
       "\n",
       "    .dataframe tbody tr th {\n",
       "        vertical-align: top;\n",
       "    }\n",
       "\n",
       "    .dataframe thead th {\n",
       "        text-align: right;\n",
       "    }\n",
       "</style>\n",
       "<table border=\"1\" class=\"dataframe\">\n",
       "  <thead>\n",
       "    <tr style=\"text-align: right;\">\n",
       "      <th></th>\n",
       "      <th>Unnamed: 0</th>\n",
       "      <th>gender</th>\n",
       "      <th>SeniorCitizen</th>\n",
       "      <th>Partner</th>\n",
       "      <th>Dependents</th>\n",
       "      <th>tenure</th>\n",
       "      <th>PhoneService</th>\n",
       "      <th>MultipleLines</th>\n",
       "      <th>InternetService</th>\n",
       "      <th>OnlineSecurity</th>\n",
       "      <th>...</th>\n",
       "      <th>DeviceProtection</th>\n",
       "      <th>TechSupport</th>\n",
       "      <th>StreamingTV</th>\n",
       "      <th>StreamingMovies</th>\n",
       "      <th>Contract</th>\n",
       "      <th>PaperlessBilling</th>\n",
       "      <th>PaymentMethod</th>\n",
       "      <th>MonthlyCharges</th>\n",
       "      <th>TotalCharges</th>\n",
       "      <th>Churn</th>\n",
       "    </tr>\n",
       "  </thead>\n",
       "  <tbody>\n",
       "    <tr>\n",
       "      <th>count</th>\n",
       "      <td>5282.000000</td>\n",
       "      <td>5282.000000</td>\n",
       "      <td>5282.000000</td>\n",
       "      <td>5282.000000</td>\n",
       "      <td>5282.000000</td>\n",
       "      <td>5282.000000</td>\n",
       "      <td>5282.000000</td>\n",
       "      <td>5282.000000</td>\n",
       "      <td>5282.000000</td>\n",
       "      <td>5282.000000</td>\n",
       "      <td>...</td>\n",
       "      <td>5282.000000</td>\n",
       "      <td>5282.000000</td>\n",
       "      <td>5282.000000</td>\n",
       "      <td>5282.000000</td>\n",
       "      <td>5282.000000</td>\n",
       "      <td>5282.000000</td>\n",
       "      <td>5282.000000</td>\n",
       "      <td>5282.000000</td>\n",
       "      <td>5282.000000</td>\n",
       "      <td>5282.000000</td>\n",
       "    </tr>\n",
       "    <tr>\n",
       "      <th>mean</th>\n",
       "      <td>3548.566641</td>\n",
       "      <td>0.513631</td>\n",
       "      <td>0.159788</td>\n",
       "      <td>0.484476</td>\n",
       "      <td>0.300265</td>\n",
       "      <td>32.413858</td>\n",
       "      <td>0.903635</td>\n",
       "      <td>0.952480</td>\n",
       "      <td>0.872586</td>\n",
       "      <td>0.788716</td>\n",
       "      <td>...</td>\n",
       "      <td>0.897009</td>\n",
       "      <td>0.793260</td>\n",
       "      <td>0.990913</td>\n",
       "      <td>0.995456</td>\n",
       "      <td>0.691405</td>\n",
       "      <td>0.587656</td>\n",
       "      <td>1.572889</td>\n",
       "      <td>64.762609</td>\n",
       "      <td>3271.963839</td>\n",
       "      <td>0.263158</td>\n",
       "    </tr>\n",
       "    <tr>\n",
       "      <th>std</th>\n",
       "      <td>2030.343422</td>\n",
       "      <td>0.499861</td>\n",
       "      <td>0.366444</td>\n",
       "      <td>0.499806</td>\n",
       "      <td>0.458417</td>\n",
       "      <td>24.489220</td>\n",
       "      <td>0.295119</td>\n",
       "      <td>0.949499</td>\n",
       "      <td>0.738896</td>\n",
       "      <td>0.859161</td>\n",
       "      <td>...</td>\n",
       "      <td>0.878747</td>\n",
       "      <td>0.860266</td>\n",
       "      <td>0.884717</td>\n",
       "      <td>0.884752</td>\n",
       "      <td>0.831699</td>\n",
       "      <td>0.492303</td>\n",
       "      <td>1.069134</td>\n",
       "      <td>30.125932</td>\n",
       "      <td>1886.476192</td>\n",
       "      <td>0.440389</td>\n",
       "    </tr>\n",
       "    <tr>\n",
       "      <th>min</th>\n",
       "      <td>0.000000</td>\n",
       "      <td>0.000000</td>\n",
       "      <td>0.000000</td>\n",
       "      <td>0.000000</td>\n",
       "      <td>0.000000</td>\n",
       "      <td>0.000000</td>\n",
       "      <td>0.000000</td>\n",
       "      <td>0.000000</td>\n",
       "      <td>0.000000</td>\n",
       "      <td>0.000000</td>\n",
       "      <td>...</td>\n",
       "      <td>0.000000</td>\n",
       "      <td>0.000000</td>\n",
       "      <td>0.000000</td>\n",
       "      <td>0.000000</td>\n",
       "      <td>0.000000</td>\n",
       "      <td>0.000000</td>\n",
       "      <td>0.000000</td>\n",
       "      <td>18.250000</td>\n",
       "      <td>0.000000</td>\n",
       "      <td>0.000000</td>\n",
       "    </tr>\n",
       "    <tr>\n",
       "      <th>25%</th>\n",
       "      <td>1806.500000</td>\n",
       "      <td>0.000000</td>\n",
       "      <td>0.000000</td>\n",
       "      <td>0.000000</td>\n",
       "      <td>0.000000</td>\n",
       "      <td>9.000000</td>\n",
       "      <td>1.000000</td>\n",
       "      <td>0.000000</td>\n",
       "      <td>0.000000</td>\n",
       "      <td>0.000000</td>\n",
       "      <td>...</td>\n",
       "      <td>0.000000</td>\n",
       "      <td>0.000000</td>\n",
       "      <td>0.000000</td>\n",
       "      <td>0.000000</td>\n",
       "      <td>0.000000</td>\n",
       "      <td>0.000000</td>\n",
       "      <td>1.000000</td>\n",
       "      <td>35.450000</td>\n",
       "      <td>1616.250000</td>\n",
       "      <td>0.000000</td>\n",
       "    </tr>\n",
       "    <tr>\n",
       "      <th>50%</th>\n",
       "      <td>3562.500000</td>\n",
       "      <td>1.000000</td>\n",
       "      <td>0.000000</td>\n",
       "      <td>0.000000</td>\n",
       "      <td>0.000000</td>\n",
       "      <td>29.000000</td>\n",
       "      <td>1.000000</td>\n",
       "      <td>1.000000</td>\n",
       "      <td>1.000000</td>\n",
       "      <td>1.000000</td>\n",
       "      <td>...</td>\n",
       "      <td>1.000000</td>\n",
       "      <td>1.000000</td>\n",
       "      <td>1.000000</td>\n",
       "      <td>1.000000</td>\n",
       "      <td>0.000000</td>\n",
       "      <td>1.000000</td>\n",
       "      <td>2.000000</td>\n",
       "      <td>70.400000</td>\n",
       "      <td>3274.500000</td>\n",
       "      <td>0.000000</td>\n",
       "    </tr>\n",
       "    <tr>\n",
       "      <th>75%</th>\n",
       "      <td>5304.500000</td>\n",
       "      <td>1.000000</td>\n",
       "      <td>0.000000</td>\n",
       "      <td>1.000000</td>\n",
       "      <td>1.000000</td>\n",
       "      <td>55.000000</td>\n",
       "      <td>1.000000</td>\n",
       "      <td>2.000000</td>\n",
       "      <td>1.000000</td>\n",
       "      <td>2.000000</td>\n",
       "      <td>...</td>\n",
       "      <td>2.000000</td>\n",
       "      <td>2.000000</td>\n",
       "      <td>2.000000</td>\n",
       "      <td>2.000000</td>\n",
       "      <td>1.000000</td>\n",
       "      <td>1.000000</td>\n",
       "      <td>2.000000</td>\n",
       "      <td>89.850000</td>\n",
       "      <td>4915.750000</td>\n",
       "      <td>1.000000</td>\n",
       "    </tr>\n",
       "    <tr>\n",
       "      <th>max</th>\n",
       "      <td>7042.000000</td>\n",
       "      <td>1.000000</td>\n",
       "      <td>1.000000</td>\n",
       "      <td>1.000000</td>\n",
       "      <td>1.000000</td>\n",
       "      <td>72.000000</td>\n",
       "      <td>1.000000</td>\n",
       "      <td>2.000000</td>\n",
       "      <td>2.000000</td>\n",
       "      <td>2.000000</td>\n",
       "      <td>...</td>\n",
       "      <td>2.000000</td>\n",
       "      <td>2.000000</td>\n",
       "      <td>2.000000</td>\n",
       "      <td>2.000000</td>\n",
       "      <td>2.000000</td>\n",
       "      <td>1.000000</td>\n",
       "      <td>3.000000</td>\n",
       "      <td>118.600000</td>\n",
       "      <td>6530.000000</td>\n",
       "      <td>1.000000</td>\n",
       "    </tr>\n",
       "  </tbody>\n",
       "</table>\n",
       "<p>8 rows × 21 columns</p>\n",
       "</div>"
      ],
      "text/plain": [
       "        Unnamed: 0       gender  SeniorCitizen      Partner   Dependents  \\\n",
       "count  5282.000000  5282.000000    5282.000000  5282.000000  5282.000000   \n",
       "mean   3548.566641     0.513631       0.159788     0.484476     0.300265   \n",
       "std    2030.343422     0.499861       0.366444     0.499806     0.458417   \n",
       "min       0.000000     0.000000       0.000000     0.000000     0.000000   \n",
       "25%    1806.500000     0.000000       0.000000     0.000000     0.000000   \n",
       "50%    3562.500000     1.000000       0.000000     0.000000     0.000000   \n",
       "75%    5304.500000     1.000000       0.000000     1.000000     1.000000   \n",
       "max    7042.000000     1.000000       1.000000     1.000000     1.000000   \n",
       "\n",
       "            tenure  PhoneService  MultipleLines  InternetService  \\\n",
       "count  5282.000000   5282.000000    5282.000000      5282.000000   \n",
       "mean     32.413858      0.903635       0.952480         0.872586   \n",
       "std      24.489220      0.295119       0.949499         0.738896   \n",
       "min       0.000000      0.000000       0.000000         0.000000   \n",
       "25%       9.000000      1.000000       0.000000         0.000000   \n",
       "50%      29.000000      1.000000       1.000000         1.000000   \n",
       "75%      55.000000      1.000000       2.000000         1.000000   \n",
       "max      72.000000      1.000000       2.000000         2.000000   \n",
       "\n",
       "       OnlineSecurity  ...  DeviceProtection  TechSupport  StreamingTV  \\\n",
       "count     5282.000000  ...       5282.000000  5282.000000  5282.000000   \n",
       "mean         0.788716  ...          0.897009     0.793260     0.990913   \n",
       "std          0.859161  ...          0.878747     0.860266     0.884717   \n",
       "min          0.000000  ...          0.000000     0.000000     0.000000   \n",
       "25%          0.000000  ...          0.000000     0.000000     0.000000   \n",
       "50%          1.000000  ...          1.000000     1.000000     1.000000   \n",
       "75%          2.000000  ...          2.000000     2.000000     2.000000   \n",
       "max          2.000000  ...          2.000000     2.000000     2.000000   \n",
       "\n",
       "       StreamingMovies     Contract  PaperlessBilling  PaymentMethod  \\\n",
       "count      5282.000000  5282.000000       5282.000000    5282.000000   \n",
       "mean          0.995456     0.691405          0.587656       1.572889   \n",
       "std           0.884752     0.831699          0.492303       1.069134   \n",
       "min           0.000000     0.000000          0.000000       0.000000   \n",
       "25%           0.000000     0.000000          0.000000       1.000000   \n",
       "50%           1.000000     0.000000          1.000000       2.000000   \n",
       "75%           2.000000     1.000000          1.000000       2.000000   \n",
       "max           2.000000     2.000000          1.000000       3.000000   \n",
       "\n",
       "       MonthlyCharges  TotalCharges        Churn  \n",
       "count     5282.000000   5282.000000  5282.000000  \n",
       "mean        64.762609   3271.963839     0.263158  \n",
       "std         30.125932   1886.476192     0.440389  \n",
       "min         18.250000      0.000000     0.000000  \n",
       "25%         35.450000   1616.250000     0.000000  \n",
       "50%         70.400000   3274.500000     0.000000  \n",
       "75%         89.850000   4915.750000     1.000000  \n",
       "max        118.600000   6530.000000     1.000000  \n",
       "\n",
       "[8 rows x 21 columns]"
      ]
     },
     "execution_count": 4,
     "metadata": {},
     "output_type": "execute_result"
    }
   ],
   "source": [
    "df.describe()"
   ]
  },
  {
   "cell_type": "code",
   "execution_count": 5,
   "id": "db330bf4",
   "metadata": {},
   "outputs": [
    {
     "name": "stdout",
     "output_type": "stream",
     "text": [
      "<class 'pandas.core.frame.DataFrame'>\n",
      "RangeIndex: 5282 entries, 0 to 5281\n",
      "Data columns (total 21 columns):\n",
      " #   Column            Non-Null Count  Dtype  \n",
      "---  ------            --------------  -----  \n",
      " 0   Unnamed: 0        5282 non-null   int64  \n",
      " 1   gender            5282 non-null   int64  \n",
      " 2   SeniorCitizen     5282 non-null   int64  \n",
      " 3   Partner           5282 non-null   int64  \n",
      " 4   Dependents        5282 non-null   int64  \n",
      " 5   tenure            5282 non-null   int64  \n",
      " 6   PhoneService      5282 non-null   int64  \n",
      " 7   MultipleLines     5282 non-null   int64  \n",
      " 8   InternetService   5282 non-null   int64  \n",
      " 9   OnlineSecurity    5282 non-null   int64  \n",
      " 10  OnlineBackup      5282 non-null   int64  \n",
      " 11  DeviceProtection  5282 non-null   int64  \n",
      " 12  TechSupport       5282 non-null   int64  \n",
      " 13  StreamingTV       5282 non-null   int64  \n",
      " 14  StreamingMovies   5282 non-null   int64  \n",
      " 15  Contract          5282 non-null   int64  \n",
      " 16  PaperlessBilling  5282 non-null   int64  \n",
      " 17  PaymentMethod     5282 non-null   int64  \n",
      " 18  MonthlyCharges    5282 non-null   float64\n",
      " 19  TotalCharges      5282 non-null   int64  \n",
      " 20  Churn             5282 non-null   int64  \n",
      "dtypes: float64(1), int64(20)\n",
      "memory usage: 866.7 KB\n"
     ]
    }
   ],
   "source": [
    "df.info()"
   ]
  },
  {
   "cell_type": "code",
   "execution_count": 6,
   "id": "7f8681aa",
   "metadata": {},
   "outputs": [
    {
     "data": {
      "text/plain": [
       "Unnamed: 0          0\n",
       "gender              0\n",
       "SeniorCitizen       0\n",
       "Partner             0\n",
       "Dependents          0\n",
       "tenure              0\n",
       "PhoneService        0\n",
       "MultipleLines       0\n",
       "InternetService     0\n",
       "OnlineSecurity      0\n",
       "OnlineBackup        0\n",
       "DeviceProtection    0\n",
       "TechSupport         0\n",
       "StreamingTV         0\n",
       "StreamingMovies     0\n",
       "Contract            0\n",
       "PaperlessBilling    0\n",
       "PaymentMethod       0\n",
       "MonthlyCharges      0\n",
       "TotalCharges        0\n",
       "Churn               0\n",
       "dtype: int64"
      ]
     },
     "execution_count": 6,
     "metadata": {},
     "output_type": "execute_result"
    }
   ],
   "source": [
    "df.isnull().sum()"
   ]
  },
  {
   "cell_type": "code",
   "execution_count": 7,
   "id": "e9e15abe",
   "metadata": {},
   "outputs": [
    {
     "data": {
      "text/plain": [
       "Unnamed: 0            int64\n",
       "gender                int64\n",
       "SeniorCitizen         int64\n",
       "Partner               int64\n",
       "Dependents            int64\n",
       "tenure                int64\n",
       "PhoneService          int64\n",
       "MultipleLines         int64\n",
       "InternetService       int64\n",
       "OnlineSecurity        int64\n",
       "OnlineBackup          int64\n",
       "DeviceProtection      int64\n",
       "TechSupport           int64\n",
       "StreamingTV           int64\n",
       "StreamingMovies       int64\n",
       "Contract              int64\n",
       "PaperlessBilling      int64\n",
       "PaymentMethod         int64\n",
       "MonthlyCharges      float64\n",
       "TotalCharges          int64\n",
       "Churn                 int64\n",
       "dtype: object"
      ]
     },
     "execution_count": 7,
     "metadata": {},
     "output_type": "execute_result"
    }
   ],
   "source": [
    "df.dtypes"
   ]
  },
  {
   "cell_type": "code",
   "execution_count": 8,
   "id": "546dde1c",
   "metadata": {},
   "outputs": [
    {
     "data": {
      "text/plain": [
       "(5282, 21)"
      ]
     },
     "execution_count": 8,
     "metadata": {},
     "output_type": "execute_result"
    }
   ],
   "source": [
    "df.shape"
   ]
  },
  {
   "cell_type": "code",
   "execution_count": 9,
   "id": "fc812326",
   "metadata": {},
   "outputs": [
    {
     "data": {
      "text/plain": [
       "Unnamed: 0          5282\n",
       "gender                 2\n",
       "SeniorCitizen          2\n",
       "Partner                2\n",
       "Dependents             2\n",
       "tenure                73\n",
       "PhoneService           2\n",
       "MultipleLines          3\n",
       "InternetService        3\n",
       "OnlineSecurity         3\n",
       "OnlineBackup           3\n",
       "DeviceProtection       3\n",
       "TechSupport            3\n",
       "StreamingTV            3\n",
       "StreamingMovies        3\n",
       "Contract               3\n",
       "PaperlessBilling       2\n",
       "PaymentMethod          4\n",
       "MonthlyCharges      1464\n",
       "TotalCharges        4972\n",
       "Churn                  2\n",
       "dtype: int64"
      ]
     },
     "execution_count": 9,
     "metadata": {},
     "output_type": "execute_result"
    }
   ],
   "source": [
    "df.nunique()"
   ]
  },
  {
   "cell_type": "code",
   "execution_count": 10,
   "id": "88a6150c",
   "metadata": {},
   "outputs": [
    {
     "data": {
      "text/plain": [
       "PhoneService\n",
       "1    4773\n",
       "0     509\n",
       "Name: count, dtype: int64"
      ]
     },
     "execution_count": 10,
     "metadata": {},
     "output_type": "execute_result"
    }
   ],
   "source": [
    "df['PhoneService'].value_counts()"
   ]
  },
  {
   "cell_type": "code",
   "execution_count": 11,
   "id": "663858d5",
   "metadata": {},
   "outputs": [
    {
     "data": {
      "text/plain": [
       "Churn\n",
       "0    3892\n",
       "1    1390\n",
       "Name: count, dtype: int64"
      ]
     },
     "execution_count": 11,
     "metadata": {},
     "output_type": "execute_result"
    }
   ],
   "source": [
    "df['Churn'].value_counts()"
   ]
  },
  {
   "cell_type": "code",
   "execution_count": 12,
   "id": "62176546",
   "metadata": {},
   "outputs": [
    {
     "data": {
      "text/plain": [
       "0.2653698707936959"
      ]
     },
     "execution_count": 12,
     "metadata": {},
     "output_type": "execute_result"
    }
   ],
   "source": [
    "1869/(5174+1869)"
   ]
  },
  {
   "cell_type": "code",
   "execution_count": 13,
   "id": "e58289c6",
   "metadata": {
    "scrolled": true
   },
   "outputs": [
    {
     "data": {
      "image/png": "[encoded data removed]",
      "text/plain": [
       "<Figure size 500x340 with 1 Axes>"
      ]
     },
     "metadata": {},
     "output_type": "display_data"
    }
   ],
   "source": [
    "plt.figure(figsize=(5, 3.4))\n",
    "\n",
    "sns.set_style(\"whitegrid\", {'axes.facecolor': '#F8F6F4'})\n",
    "sns.set_palette(['#FFAEBC', '#A0E7E5'])\n",
    "\n",
    "ax = sns.countplot(data=df, x='Churn')\n",
    "\n",
    "plt.title('Churn-Count Plot', color=\"#99627A\", fontsize=10)\n",
    "ax.set_xlabel('Churn', color='#99627A', fontsize=10)\n",
    "ax.set_ylabel('Count', color='#99627A', fontsize=10)\n",
    "plt.show()"
   ]
  },
  {
   "cell_type": "markdown",
   "id": "96e9f78a",
   "metadata": {},
   "source": [
    "Handle NAN Value (NAN == NULL)"
   ]
  },
  {
   "cell_type": "code",
   "execution_count": 14,
   "id": "10a7e3f7",
   "metadata": {},
   "outputs": [],
   "source": [
    "df.dropna(inplace=True)"
   ]
  },
  {
   "cell_type": "code",
   "execution_count": 15,
   "id": "d6eeb9e0",
   "metadata": {},
   "outputs": [
    {
     "data": {
      "text/plain": [
       "Unnamed: 0          0\n",
       "gender              0\n",
       "SeniorCitizen       0\n",
       "Partner             0\n",
       "Dependents          0\n",
       "tenure              0\n",
       "PhoneService        0\n",
       "MultipleLines       0\n",
       "InternetService     0\n",
       "OnlineSecurity      0\n",
       "OnlineBackup        0\n",
       "DeviceProtection    0\n",
       "TechSupport         0\n",
       "StreamingTV         0\n",
       "StreamingMovies     0\n",
       "Contract            0\n",
       "PaperlessBilling    0\n",
       "PaymentMethod       0\n",
       "MonthlyCharges      0\n",
       "TotalCharges        0\n",
       "Churn               0\n",
       "dtype: int64"
      ]
     },
     "execution_count": 15,
     "metadata": {},
     "output_type": "execute_result"
    }
   ],
   "source": [
    "df.isnull().sum()"
   ]
  },
  {
   "cell_type": "code",
   "execution_count": 16,
   "id": "e21f66e4",
   "metadata": {},
   "outputs": [],
   "source": [
    "df.drop_duplicates(inplace=True)"
   ]
  },
  {
   "cell_type": "code",
   "execution_count": 17,
   "id": "2ab7fc66",
   "metadata": {},
   "outputs": [
    {
     "data": {
      "text/plain": [
       "(5282, 21)"
      ]
     },
     "execution_count": 17,
     "metadata": {},
     "output_type": "execute_result"
    }
   ],
   "source": [
    "df.shape"
   ]
  },
  {
   "cell_type": "code",
   "execution_count": 18,
   "id": "0d2e411f",
   "metadata": {},
   "outputs": [
    {
     "data": {
      "text/html": [
       "<div>\n",
       "<style scoped>\n",
       "    .dataframe tbody tr th:only-of-type {\n",
       "        vertical-align: middle;\n",
       "    }\n",
       "\n",
       "    .dataframe tbody tr th {\n",
       "        vertical-align: top;\n",
       "    }\n",
       "\n",
       "    .dataframe thead th {\n",
       "        text-align: right;\n",
       "    }\n",
       "</style>\n",
       "<table border=\"1\" class=\"dataframe\">\n",
       "  <thead>\n",
       "    <tr style=\"text-align: right;\">\n",
       "      <th></th>\n",
       "      <th>Unnamed: 0</th>\n",
       "      <th>gender</th>\n",
       "      <th>SeniorCitizen</th>\n",
       "      <th>Partner</th>\n",
       "      <th>Dependents</th>\n",
       "      <th>tenure</th>\n",
       "      <th>PhoneService</th>\n",
       "      <th>MultipleLines</th>\n",
       "      <th>InternetService</th>\n",
       "      <th>OnlineSecurity</th>\n",
       "      <th>...</th>\n",
       "      <th>DeviceProtection</th>\n",
       "      <th>TechSupport</th>\n",
       "      <th>StreamingTV</th>\n",
       "      <th>StreamingMovies</th>\n",
       "      <th>Contract</th>\n",
       "      <th>PaperlessBilling</th>\n",
       "      <th>PaymentMethod</th>\n",
       "      <th>MonthlyCharges</th>\n",
       "      <th>TotalCharges</th>\n",
       "      <th>Churn</th>\n",
       "    </tr>\n",
       "  </thead>\n",
       "  <tbody>\n",
       "    <tr>\n",
       "      <th>Unnamed: 0</th>\n",
       "      <td>1.000000</td>\n",
       "      <td>-0.000100</td>\n",
       "      <td>0.000731</td>\n",
       "      <td>-0.001294</td>\n",
       "      <td>-0.011669</td>\n",
       "      <td>0.001884</td>\n",
       "      <td>-0.034278</td>\n",
       "      <td>-0.013540</td>\n",
       "      <td>-0.018709</td>\n",
       "      <td>-0.006494</td>\n",
       "      <td>...</td>\n",
       "      <td>-0.013033</td>\n",
       "      <td>0.006410</td>\n",
       "      <td>-0.005278</td>\n",
       "      <td>-0.020546</td>\n",
       "      <td>-0.003440</td>\n",
       "      <td>0.010875</td>\n",
       "      <td>0.025083</td>\n",
       "      <td>-0.014253</td>\n",
       "      <td>0.015267</td>\n",
       "      <td>0.010374</td>\n",
       "    </tr>\n",
       "    <tr>\n",
       "      <th>gender</th>\n",
       "      <td>-0.000100</td>\n",
       "      <td>1.000000</td>\n",
       "      <td>-0.005691</td>\n",
       "      <td>-0.010143</td>\n",
       "      <td>0.011058</td>\n",
       "      <td>0.001303</td>\n",
       "      <td>-0.009706</td>\n",
       "      <td>-0.000430</td>\n",
       "      <td>-0.005294</td>\n",
       "      <td>-0.020189</td>\n",
       "      <td>...</td>\n",
       "      <td>-0.009305</td>\n",
       "      <td>-0.010619</td>\n",
       "      <td>-0.012994</td>\n",
       "      <td>-0.011420</td>\n",
       "      <td>0.000555</td>\n",
       "      <td>-0.014090</td>\n",
       "      <td>0.010188</td>\n",
       "      <td>-0.018822</td>\n",
       "      <td>-0.022718</td>\n",
       "      <td>-0.011997</td>\n",
       "    </tr>\n",
       "    <tr>\n",
       "      <th>SeniorCitizen</th>\n",
       "      <td>0.000731</td>\n",
       "      <td>-0.005691</td>\n",
       "      <td>1.000000</td>\n",
       "      <td>0.016648</td>\n",
       "      <td>-0.211271</td>\n",
       "      <td>0.006176</td>\n",
       "      <td>0.000581</td>\n",
       "      <td>0.129040</td>\n",
       "      <td>-0.040186</td>\n",
       "      <td>-0.129719</td>\n",
       "      <td>...</td>\n",
       "      <td>-0.015922</td>\n",
       "      <td>-0.151078</td>\n",
       "      <td>0.024338</td>\n",
       "      <td>0.043124</td>\n",
       "      <td>-0.151939</td>\n",
       "      <td>0.156417</td>\n",
       "      <td>-0.035050</td>\n",
       "      <td>0.219945</td>\n",
       "      <td>0.040956</td>\n",
       "      <td>0.146549</td>\n",
       "    </tr>\n",
       "    <tr>\n",
       "      <th>Partner</th>\n",
       "      <td>-0.001294</td>\n",
       "      <td>-0.010143</td>\n",
       "      <td>0.016648</td>\n",
       "      <td>1.000000</td>\n",
       "      <td>0.447629</td>\n",
       "      <td>0.382432</td>\n",
       "      <td>0.031578</td>\n",
       "      <td>0.151068</td>\n",
       "      <td>0.007205</td>\n",
       "      <td>0.159928</td>\n",
       "      <td>...</td>\n",
       "      <td>0.168815</td>\n",
       "      <td>0.132582</td>\n",
       "      <td>0.136715</td>\n",
       "      <td>0.122310</td>\n",
       "      <td>0.303243</td>\n",
       "      <td>-0.020634</td>\n",
       "      <td>-0.160535</td>\n",
       "      <td>0.105603</td>\n",
       "      <td>0.069859</td>\n",
       "      <td>-0.150053</td>\n",
       "    </tr>\n",
       "    <tr>\n",
       "      <th>Dependents</th>\n",
       "      <td>-0.011669</td>\n",
       "      <td>0.011058</td>\n",
       "      <td>-0.211271</td>\n",
       "      <td>0.447629</td>\n",
       "      <td>1.000000</td>\n",
       "      <td>0.162933</td>\n",
       "      <td>-0.005830</td>\n",
       "      <td>-0.020722</td>\n",
       "      <td>0.041972</td>\n",
       "      <td>0.157262</td>\n",
       "      <td>...</td>\n",
       "      <td>0.076783</td>\n",
       "      <td>0.137274</td>\n",
       "      <td>0.045948</td>\n",
       "      <td>0.023907</td>\n",
       "      <td>0.243080</td>\n",
       "      <td>-0.109935</td>\n",
       "      <td>-0.040414</td>\n",
       "      <td>-0.114920</td>\n",
       "      <td>-0.013196</td>\n",
       "      <td>-0.164490</td>\n",
       "    </tr>\n",
       "    <tr>\n",
       "      <th>tenure</th>\n",
       "      <td>0.001884</td>\n",
       "      <td>0.001303</td>\n",
       "      <td>0.006176</td>\n",
       "      <td>0.382432</td>\n",
       "      <td>0.162933</td>\n",
       "      <td>1.000000</td>\n",
       "      <td>0.005912</td>\n",
       "      <td>0.354790</td>\n",
       "      <td>-0.032037</td>\n",
       "      <td>0.325451</td>\n",
       "      <td>...</td>\n",
       "      <td>0.369331</td>\n",
       "      <td>0.326993</td>\n",
       "      <td>0.288135</td>\n",
       "      <td>0.301600</td>\n",
       "      <td>0.671184</td>\n",
       "      <td>0.004043</td>\n",
       "      <td>-0.360323</td>\n",
       "      <td>0.253605</td>\n",
       "      <td>0.152843</td>\n",
       "      <td>-0.345544</td>\n",
       "    </tr>\n",
       "    <tr>\n",
       "      <th>PhoneService</th>\n",
       "      <td>-0.034278</td>\n",
       "      <td>-0.009706</td>\n",
       "      <td>0.000581</td>\n",
       "      <td>0.031578</td>\n",
       "      <td>-0.005830</td>\n",
       "      <td>0.005912</td>\n",
       "      <td>1.000000</td>\n",
       "      <td>-0.016345</td>\n",
       "      <td>0.385682</td>\n",
       "      <td>-0.007874</td>\n",
       "      <td>...</td>\n",
       "      <td>0.000422</td>\n",
       "      <td>-0.006139</td>\n",
       "      <td>0.055390</td>\n",
       "      <td>0.048362</td>\n",
       "      <td>0.005342</td>\n",
       "      <td>0.014489</td>\n",
       "      <td>0.006362</td>\n",
       "      <td>0.247419</td>\n",
       "      <td>0.081045</td>\n",
       "      <td>0.010122</td>\n",
       "    </tr>\n",
       "    <tr>\n",
       "      <th>MultipleLines</th>\n",
       "      <td>-0.013540</td>\n",
       "      <td>-0.000430</td>\n",
       "      <td>0.129040</td>\n",
       "      <td>0.151068</td>\n",
       "      <td>-0.020722</td>\n",
       "      <td>0.354790</td>\n",
       "      <td>-0.016345</td>\n",
       "      <td>1.000000</td>\n",
       "      <td>-0.105796</td>\n",
       "      <td>0.006028</td>\n",
       "      <td>...</td>\n",
       "      <td>0.132798</td>\n",
       "      <td>0.019266</td>\n",
       "      <td>0.172380</td>\n",
       "      <td>0.188860</td>\n",
       "      <td>0.120023</td>\n",
       "      <td>0.172369</td>\n",
       "      <td>-0.176313</td>\n",
       "      <td>0.436398</td>\n",
       "      <td>0.118773</td>\n",
       "      <td>0.031270</td>\n",
       "    </tr>\n",
       "    <tr>\n",
       "      <th>InternetService</th>\n",
       "      <td>-0.018709</td>\n",
       "      <td>-0.005294</td>\n",
       "      <td>-0.040186</td>\n",
       "      <td>0.007205</td>\n",
       "      <td>0.041972</td>\n",
       "      <td>-0.032037</td>\n",
       "      <td>0.385682</td>\n",
       "      <td>-0.105796</td>\n",
       "      <td>1.000000</td>\n",
       "      <td>-0.027201</td>\n",
       "      <td>...</td>\n",
       "      <td>0.048320</td>\n",
       "      <td>-0.018510</td>\n",
       "      <td>0.101060</td>\n",
       "      <td>0.092672</td>\n",
       "      <td>0.097158</td>\n",
       "      <td>-0.141856</td>\n",
       "      <td>0.095054</td>\n",
       "      <td>-0.325588</td>\n",
       "      <td>-0.064748</td>\n",
       "      <td>-0.048820</td>\n",
       "    </tr>\n",
       "    <tr>\n",
       "      <th>OnlineSecurity</th>\n",
       "      <td>-0.006494</td>\n",
       "      <td>-0.020189</td>\n",
       "      <td>-0.129719</td>\n",
       "      <td>0.159928</td>\n",
       "      <td>0.157262</td>\n",
       "      <td>0.325451</td>\n",
       "      <td>-0.007874</td>\n",
       "      <td>0.006028</td>\n",
       "      <td>-0.027201</td>\n",
       "      <td>1.000000</td>\n",
       "      <td>...</td>\n",
       "      <td>0.182355</td>\n",
       "      <td>0.276510</td>\n",
       "      <td>0.057760</td>\n",
       "      <td>0.065996</td>\n",
       "      <td>0.371159</td>\n",
       "      <td>-0.146473</td>\n",
       "      <td>-0.085892</td>\n",
       "      <td>-0.049605</td>\n",
       "      <td>0.036493</td>\n",
       "      <td>-0.288926</td>\n",
       "    </tr>\n",
       "    <tr>\n",
       "      <th>OnlineBackup</th>\n",
       "      <td>-0.005515</td>\n",
       "      <td>-0.025773</td>\n",
       "      <td>-0.012166</td>\n",
       "      <td>0.166939</td>\n",
       "      <td>0.095640</td>\n",
       "      <td>0.371342</td>\n",
       "      <td>0.017500</td>\n",
       "      <td>0.134460</td>\n",
       "      <td>0.032058</td>\n",
       "      <td>0.186626</td>\n",
       "      <td>...</td>\n",
       "      <td>0.191348</td>\n",
       "      <td>0.189892</td>\n",
       "      <td>0.142882</td>\n",
       "      <td>0.151145</td>\n",
       "      <td>0.282646</td>\n",
       "      <td>-0.019611</td>\n",
       "      <td>-0.111508</td>\n",
       "      <td>0.125340</td>\n",
       "      <td>0.090223</td>\n",
       "      <td>-0.193152</td>\n",
       "    </tr>\n",
       "    <tr>\n",
       "      <th>DeviceProtection</th>\n",
       "      <td>-0.013033</td>\n",
       "      <td>-0.009305</td>\n",
       "      <td>-0.015922</td>\n",
       "      <td>0.168815</td>\n",
       "      <td>0.076783</td>\n",
       "      <td>0.369331</td>\n",
       "      <td>0.000422</td>\n",
       "      <td>0.132798</td>\n",
       "      <td>0.048320</td>\n",
       "      <td>0.182355</td>\n",
       "      <td>...</td>\n",
       "      <td>1.000000</td>\n",
       "      <td>0.247866</td>\n",
       "      <td>0.278896</td>\n",
       "      <td>0.301894</td>\n",
       "      <td>0.352138</td>\n",
       "      <td>-0.032091</td>\n",
       "      <td>-0.135513</td>\n",
       "      <td>0.162808</td>\n",
       "      <td>0.103120</td>\n",
       "      <td>-0.173138</td>\n",
       "    </tr>\n",
       "    <tr>\n",
       "      <th>TechSupport</th>\n",
       "      <td>0.006410</td>\n",
       "      <td>-0.010619</td>\n",
       "      <td>-0.151078</td>\n",
       "      <td>0.132582</td>\n",
       "      <td>0.137274</td>\n",
       "      <td>0.326993</td>\n",
       "      <td>-0.006139</td>\n",
       "      <td>0.019266</td>\n",
       "      <td>-0.018510</td>\n",
       "      <td>0.276510</td>\n",
       "      <td>...</td>\n",
       "      <td>0.247866</td>\n",
       "      <td>1.000000</td>\n",
       "      <td>0.174178</td>\n",
       "      <td>0.172420</td>\n",
       "      <td>0.428750</td>\n",
       "      <td>-0.113245</td>\n",
       "      <td>-0.097672</td>\n",
       "      <td>-0.001710</td>\n",
       "      <td>0.053532</td>\n",
       "      <td>-0.274718</td>\n",
       "    </tr>\n",
       "    <tr>\n",
       "      <th>StreamingTV</th>\n",
       "      <td>-0.005278</td>\n",
       "      <td>-0.012994</td>\n",
       "      <td>0.024338</td>\n",
       "      <td>0.136715</td>\n",
       "      <td>0.045948</td>\n",
       "      <td>0.288135</td>\n",
       "      <td>0.055390</td>\n",
       "      <td>0.172380</td>\n",
       "      <td>0.101060</td>\n",
       "      <td>0.057760</td>\n",
       "      <td>...</td>\n",
       "      <td>0.278896</td>\n",
       "      <td>0.174178</td>\n",
       "      <td>1.000000</td>\n",
       "      <td>0.437809</td>\n",
       "      <td>0.231143</td>\n",
       "      <td>0.101389</td>\n",
       "      <td>-0.100597</td>\n",
       "      <td>0.338557</td>\n",
       "      <td>0.134112</td>\n",
       "      <td>-0.043920</td>\n",
       "    </tr>\n",
       "    <tr>\n",
       "      <th>StreamingMovies</th>\n",
       "      <td>-0.020546</td>\n",
       "      <td>-0.011420</td>\n",
       "      <td>0.043124</td>\n",
       "      <td>0.122310</td>\n",
       "      <td>0.023907</td>\n",
       "      <td>0.301600</td>\n",
       "      <td>0.048362</td>\n",
       "      <td>0.188860</td>\n",
       "      <td>0.092672</td>\n",
       "      <td>0.065996</td>\n",
       "      <td>...</td>\n",
       "      <td>0.301894</td>\n",
       "      <td>0.172420</td>\n",
       "      <td>0.437809</td>\n",
       "      <td>1.000000</td>\n",
       "      <td>0.236128</td>\n",
       "      <td>0.075255</td>\n",
       "      <td>-0.114956</td>\n",
       "      <td>0.339162</td>\n",
       "      <td>0.150553</td>\n",
       "      <td>-0.038240</td>\n",
       "    </tr>\n",
       "    <tr>\n",
       "      <th>Contract</th>\n",
       "      <td>-0.003440</td>\n",
       "      <td>0.000555</td>\n",
       "      <td>-0.151939</td>\n",
       "      <td>0.303243</td>\n",
       "      <td>0.243080</td>\n",
       "      <td>0.671184</td>\n",
       "      <td>0.005342</td>\n",
       "      <td>0.120023</td>\n",
       "      <td>0.097158</td>\n",
       "      <td>0.371159</td>\n",
       "      <td>...</td>\n",
       "      <td>0.352138</td>\n",
       "      <td>0.428750</td>\n",
       "      <td>0.231143</td>\n",
       "      <td>0.236128</td>\n",
       "      <td>1.000000</td>\n",
       "      <td>-0.185507</td>\n",
       "      <td>-0.218531</td>\n",
       "      <td>-0.067540</td>\n",
       "      <td>0.104879</td>\n",
       "      <td>-0.394490</td>\n",
       "    </tr>\n",
       "    <tr>\n",
       "      <th>PaperlessBilling</th>\n",
       "      <td>0.010875</td>\n",
       "      <td>-0.014090</td>\n",
       "      <td>0.156417</td>\n",
       "      <td>-0.020634</td>\n",
       "      <td>-0.109935</td>\n",
       "      <td>0.004043</td>\n",
       "      <td>0.014489</td>\n",
       "      <td>0.172369</td>\n",
       "      <td>-0.141856</td>\n",
       "      <td>-0.146473</td>\n",
       "      <td>...</td>\n",
       "      <td>-0.032091</td>\n",
       "      <td>-0.113245</td>\n",
       "      <td>0.101389</td>\n",
       "      <td>0.075255</td>\n",
       "      <td>-0.185507</td>\n",
       "      <td>1.000000</td>\n",
       "      <td>-0.063408</td>\n",
       "      <td>0.359566</td>\n",
       "      <td>0.101619</td>\n",
       "      <td>0.188793</td>\n",
       "    </tr>\n",
       "    <tr>\n",
       "      <th>PaymentMethod</th>\n",
       "      <td>0.025083</td>\n",
       "      <td>0.010188</td>\n",
       "      <td>-0.035050</td>\n",
       "      <td>-0.160535</td>\n",
       "      <td>-0.040414</td>\n",
       "      <td>-0.360323</td>\n",
       "      <td>0.006362</td>\n",
       "      <td>-0.176313</td>\n",
       "      <td>0.095054</td>\n",
       "      <td>-0.085892</td>\n",
       "      <td>...</td>\n",
       "      <td>-0.135513</td>\n",
       "      <td>-0.097672</td>\n",
       "      <td>-0.100597</td>\n",
       "      <td>-0.114956</td>\n",
       "      <td>-0.218531</td>\n",
       "      <td>-0.063408</td>\n",
       "      <td>1.000000</td>\n",
       "      <td>-0.194857</td>\n",
       "      <td>-0.056972</td>\n",
       "      <td>0.100015</td>\n",
       "    </tr>\n",
       "    <tr>\n",
       "      <th>MonthlyCharges</th>\n",
       "      <td>-0.014253</td>\n",
       "      <td>-0.018822</td>\n",
       "      <td>0.219945</td>\n",
       "      <td>0.105603</td>\n",
       "      <td>-0.114920</td>\n",
       "      <td>0.253605</td>\n",
       "      <td>0.247419</td>\n",
       "      <td>0.436398</td>\n",
       "      <td>-0.325588</td>\n",
       "      <td>-0.049605</td>\n",
       "      <td>...</td>\n",
       "      <td>0.162808</td>\n",
       "      <td>-0.001710</td>\n",
       "      <td>0.338557</td>\n",
       "      <td>0.339162</td>\n",
       "      <td>-0.067540</td>\n",
       "      <td>0.359566</td>\n",
       "      <td>-0.194857</td>\n",
       "      <td>1.000000</td>\n",
       "      <td>0.279822</td>\n",
       "      <td>0.186615</td>\n",
       "    </tr>\n",
       "    <tr>\n",
       "      <th>TotalCharges</th>\n",
       "      <td>0.015267</td>\n",
       "      <td>-0.022718</td>\n",
       "      <td>0.040956</td>\n",
       "      <td>0.069859</td>\n",
       "      <td>-0.013196</td>\n",
       "      <td>0.152843</td>\n",
       "      <td>0.081045</td>\n",
       "      <td>0.118773</td>\n",
       "      <td>-0.064748</td>\n",
       "      <td>0.036493</td>\n",
       "      <td>...</td>\n",
       "      <td>0.103120</td>\n",
       "      <td>0.053532</td>\n",
       "      <td>0.134112</td>\n",
       "      <td>0.150553</td>\n",
       "      <td>0.104879</td>\n",
       "      <td>0.101619</td>\n",
       "      <td>-0.056972</td>\n",
       "      <td>0.279822</td>\n",
       "      <td>1.000000</td>\n",
       "      <td>0.020294</td>\n",
       "    </tr>\n",
       "    <tr>\n",
       "      <th>Churn</th>\n",
       "      <td>0.010374</td>\n",
       "      <td>-0.011997</td>\n",
       "      <td>0.146549</td>\n",
       "      <td>-0.150053</td>\n",
       "      <td>-0.164490</td>\n",
       "      <td>-0.345544</td>\n",
       "      <td>0.010122</td>\n",
       "      <td>0.031270</td>\n",
       "      <td>-0.048820</td>\n",
       "      <td>-0.288926</td>\n",
       "      <td>...</td>\n",
       "      <td>-0.173138</td>\n",
       "      <td>-0.274718</td>\n",
       "      <td>-0.043920</td>\n",
       "      <td>-0.038240</td>\n",
       "      <td>-0.394490</td>\n",
       "      <td>0.188793</td>\n",
       "      <td>0.100015</td>\n",
       "      <td>0.186615</td>\n",
       "      <td>0.020294</td>\n",
       "      <td>1.000000</td>\n",
       "    </tr>\n",
       "  </tbody>\n",
       "</table>\n",
       "<p>21 rows × 21 columns</p>\n",
       "</div>"
      ],
      "text/plain": [
       "                  Unnamed: 0    gender  SeniorCitizen   Partner  Dependents  \\\n",
       "Unnamed: 0          1.000000 -0.000100       0.000731 -0.001294   -0.011669   \n",
       "gender             -0.000100  1.000000      -0.005691 -0.010143    0.011058   \n",
       "SeniorCitizen       0.000731 -0.005691       1.000000  0.016648   -0.211271   \n",
       "Partner            -0.001294 -0.010143       0.016648  1.000000    0.447629   \n",
       "Dependents         -0.011669  0.011058      -0.211271  0.447629    1.000000   \n",
       "tenure              0.001884  0.001303       0.006176  0.382432    0.162933   \n",
       "PhoneService       -0.034278 -0.009706       0.000581  0.031578   -0.005830   \n",
       "MultipleLines      -0.013540 -0.000430       0.129040  0.151068   -0.020722   \n",
       "InternetService    -0.018709 -0.005294      -0.040186  0.007205    0.041972   \n",
       "OnlineSecurity     -0.006494 -0.020189      -0.129719  0.159928    0.157262   \n",
       "OnlineBackup       -0.005515 -0.025773      -0.012166  0.166939    0.095640   \n",
       "DeviceProtection   -0.013033 -0.009305      -0.015922  0.168815    0.076783   \n",
       "TechSupport         0.006410 -0.010619      -0.151078  0.132582    0.137274   \n",
       "StreamingTV        -0.005278 -0.012994       0.024338  0.136715    0.045948   \n",
       "StreamingMovies    -0.020546 -0.011420       0.043124  0.122310    0.023907   \n",
       "Contract           -0.003440  0.000555      -0.151939  0.303243    0.243080   \n",
       "PaperlessBilling    0.010875 -0.014090       0.156417 -0.020634   -0.109935   \n",
       "PaymentMethod       0.025083  0.010188      -0.035050 -0.160535   -0.040414   \n",
       "MonthlyCharges     -0.014253 -0.018822       0.219945  0.105603   -0.114920   \n",
       "TotalCharges        0.015267 -0.022718       0.040956  0.069859   -0.013196   \n",
       "Churn               0.010374 -0.011997       0.146549 -0.150053   -0.164490   \n",
       "\n",
       "                    tenure  PhoneService  MultipleLines  InternetService  \\\n",
       "Unnamed: 0        0.001884     -0.034278      -0.013540        -0.018709   \n",
       "gender            0.001303     -0.009706      -0.000430        -0.005294   \n",
       "SeniorCitizen     0.006176      0.000581       0.129040        -0.040186   \n",
       "Partner           0.382432      0.031578       0.151068         0.007205   \n",
       "Dependents        0.162933     -0.005830      -0.020722         0.041972   \n",
       "tenure            1.000000      0.005912       0.354790        -0.032037   \n",
       "PhoneService      0.005912      1.000000      -0.016345         0.385682   \n",
       "MultipleLines     0.354790     -0.016345       1.000000        -0.105796   \n",
       "InternetService  -0.032037      0.385682      -0.105796         1.000000   \n",
       "OnlineSecurity    0.325451     -0.007874       0.006028        -0.027201   \n",
       "OnlineBackup      0.371342      0.017500       0.134460         0.032058   \n",
       "DeviceProtection  0.369331      0.000422       0.132798         0.048320   \n",
       "TechSupport       0.326993     -0.006139       0.019266        -0.018510   \n",
       "StreamingTV       0.288135      0.055390       0.172380         0.101060   \n",
       "StreamingMovies   0.301600      0.048362       0.188860         0.092672   \n",
       "Contract          0.671184      0.005342       0.120023         0.097158   \n",
       "PaperlessBilling  0.004043      0.014489       0.172369        -0.141856   \n",
       "PaymentMethod    -0.360323      0.006362      -0.176313         0.095054   \n",
       "MonthlyCharges    0.253605      0.247419       0.436398        -0.325588   \n",
       "TotalCharges      0.152843      0.081045       0.118773        -0.064748   \n",
       "Churn            -0.345544      0.010122       0.031270        -0.048820   \n",
       "\n",
       "                  OnlineSecurity  ...  DeviceProtection  TechSupport  \\\n",
       "Unnamed: 0             -0.006494  ...         -0.013033     0.006410   \n",
       "gender                 -0.020189  ...         -0.009305    -0.010619   \n",
       "SeniorCitizen          -0.129719  ...         -0.015922    -0.151078   \n",
       "Partner                 0.159928  ...          0.168815     0.132582   \n",
       "Dependents              0.157262  ...          0.076783     0.137274   \n",
       "tenure                  0.325451  ...          0.369331     0.326993   \n",
       "PhoneService           -0.007874  ...          0.000422    -0.006139   \n",
       "MultipleLines           0.006028  ...          0.132798     0.019266   \n",
       "InternetService        -0.027201  ...          0.048320    -0.018510   \n",
       "OnlineSecurity          1.000000  ...          0.182355     0.276510   \n",
       "OnlineBackup            0.186626  ...          0.191348     0.189892   \n",
       "DeviceProtection        0.182355  ...          1.000000     0.247866   \n",
       "TechSupport             0.276510  ...          0.247866     1.000000   \n",
       "StreamingTV             0.057760  ...          0.278896     0.174178   \n",
       "StreamingMovies         0.065996  ...          0.301894     0.172420   \n",
       "Contract                0.371159  ...          0.352138     0.428750   \n",
       "PaperlessBilling       -0.146473  ...         -0.032091    -0.113245   \n",
       "PaymentMethod          -0.085892  ...         -0.135513    -0.097672   \n",
       "MonthlyCharges         -0.049605  ...          0.162808    -0.001710   \n",
       "TotalCharges            0.036493  ...          0.103120     0.053532   \n",
       "Churn                  -0.288926  ...         -0.173138    -0.274718   \n",
       "\n",
       "                  StreamingTV  StreamingMovies  Contract  PaperlessBilling  \\\n",
       "Unnamed: 0          -0.005278        -0.020546 -0.003440          0.010875   \n",
       "gender              -0.012994        -0.011420  0.000555         -0.014090   \n",
       "SeniorCitizen        0.024338         0.043124 -0.151939          0.156417   \n",
       "Partner              0.136715         0.122310  0.303243         -0.020634   \n",
       "Dependents           0.045948         0.023907  0.243080         -0.109935   \n",
       "tenure               0.288135         0.301600  0.671184          0.004043   \n",
       "PhoneService         0.055390         0.048362  0.005342          0.014489   \n",
       "MultipleLines        0.172380         0.188860  0.120023          0.172369   \n",
       "InternetService      0.101060         0.092672  0.097158         -0.141856   \n",
       "OnlineSecurity       0.057760         0.065996  0.371159         -0.146473   \n",
       "OnlineBackup         0.142882         0.151145  0.282646         -0.019611   \n",
       "DeviceProtection     0.278896         0.301894  0.352138         -0.032091   \n",
       "TechSupport          0.174178         0.172420  0.428750         -0.113245   \n",
       "StreamingTV          1.000000         0.437809  0.231143          0.101389   \n",
       "StreamingMovies      0.437809         1.000000  0.236128          0.075255   \n",
       "Contract             0.231143         0.236128  1.000000         -0.185507   \n",
       "PaperlessBilling     0.101389         0.075255 -0.185507          1.000000   \n",
       "PaymentMethod       -0.100597        -0.114956 -0.218531         -0.063408   \n",
       "MonthlyCharges       0.338557         0.339162 -0.067540          0.359566   \n",
       "TotalCharges         0.134112         0.150553  0.104879          0.101619   \n",
       "Churn               -0.043920        -0.038240 -0.394490          0.188793   \n",
       "\n",
       "                  PaymentMethod  MonthlyCharges  TotalCharges     Churn  \n",
       "Unnamed: 0             0.025083       -0.014253      0.015267  0.010374  \n",
       "gender                 0.010188       -0.018822     -0.022718 -0.011997  \n",
       "SeniorCitizen         -0.035050        0.219945      0.040956  0.146549  \n",
       "Partner               -0.160535        0.105603      0.069859 -0.150053  \n",
       "Dependents            -0.040414       -0.114920     -0.013196 -0.164490  \n",
       "tenure                -0.360323        0.253605      0.152843 -0.345544  \n",
       "PhoneService           0.006362        0.247419      0.081045  0.010122  \n",
       "MultipleLines         -0.176313        0.436398      0.118773  0.031270  \n",
       "InternetService        0.095054       -0.325588     -0.064748 -0.048820  \n",
       "OnlineSecurity        -0.085892       -0.049605      0.036493 -0.288926  \n",
       "OnlineBackup          -0.111508        0.125340      0.090223 -0.193152  \n",
       "DeviceProtection      -0.135513        0.162808      0.103120 -0.173138  \n",
       "TechSupport           -0.097672       -0.001710      0.053532 -0.274718  \n",
       "StreamingTV           -0.100597        0.338557      0.134112 -0.043920  \n",
       "StreamingMovies       -0.114956        0.339162      0.150553 -0.038240  \n",
       "Contract              -0.218531       -0.067540      0.104879 -0.394490  \n",
       "PaperlessBilling      -0.063408        0.359566      0.101619  0.188793  \n",
       "PaymentMethod          1.000000       -0.194857     -0.056972  0.100015  \n",
       "MonthlyCharges        -0.194857        1.000000      0.279822  0.186615  \n",
       "TotalCharges          -0.056972        0.279822      1.000000  0.020294  \n",
       "Churn                  0.100015        0.186615      0.020294  1.000000  \n",
       "\n",
       "[21 rows x 21 columns]"
      ]
     },
     "execution_count": 18,
     "metadata": {},
     "output_type": "execute_result"
    }
   ],
   "source": [
    "non_numeric_columns = df.select_dtypes(exclude=[np.number]).columns\n",
    "df_numeric = df.drop(non_numeric_columns, axis=1)\n",
    "\n",
    "correlation_matrix = df_numeric.corr()\n",
    "correlation_matrix"
   ]
  },
  {
   "cell_type": "code",
   "execution_count": 19,
   "id": "d163d25f",
   "metadata": {},
   "outputs": [
    {
     "data": {
      "text/plain": [
       "<Axes: >"
      ]
     },
     "execution_count": 19,
     "metadata": {},
     "output_type": "execute_result"
    },
    {
     "data": {
      "image/png": "[encoded data removed]",
      "text/plain": [
       "<Figure size 1000x1000 with 2 Axes>"
      ]
     },
     "metadata": {},
     "output_type": "display_data"
    }
   ],
   "source": [
    "plt.figure(figsize=(10,10))\n",
    "sns.heatmap(correlation_matrix,annot=True)"
   ]
  },
  {
   "cell_type": "code",
   "execution_count": 20,
   "id": "f0d58d76",
   "metadata": {},
   "outputs": [
    {
     "data": {
      "image/png": "[encoded data removed]",
      "text/plain": [
       "<Figure size 1000x600 with 1 Axes>"
      ]
     },
     "metadata": {},
     "output_type": "display_data"
    }
   ],
   "source": [
    "plt.figure(figsize=(10, 6))\n",
    "\n",
    "sns.set_style(\"whitegrid\", {'axes.facecolor': '#F8F6F4'})\n",
    "sns.set_palette(['#FFAEBC', '#A0E7E5'])\n",
    "\n",
    "ax = sns.countplot(x='gender', hue='Churn', data=df)\n",
    "\n",
    "plt.title('Count Plot', color=\"#99627A\", fontsize=10)\n",
    "ax.set_xlabel('Gender', color='#99627A', fontsize=10)\n",
    "ax.set_ylabel('Count', color='#99627A', fontsize=10)\n",
    "\n",
    "plt.show()"
   ]
  },
  {
   "cell_type": "markdown",
   "id": "f77cac21",
   "metadata": {},
   "source": [
    "Copy of Dataframe : "
   ]
  },
  {
   "cell_type": "code",
   "execution_count": 21,
   "id": "8bffd4af",
   "metadata": {},
   "outputs": [],
   "source": [
    "df1 = df.copy()\n",
    "df2 = df.copy()\n",
    "df3 = df.copy()\n",
    "df4 = df.copy()\n",
    "df5 = df.copy()"
   ]
  },
  {
   "cell_type": "markdown",
   "id": "14bc9658",
   "metadata": {},
   "source": [
    "# Preprocessing the Dataset"
   ]
  },
  {
   "cell_type": "code",
   "execution_count": 22,
   "id": "65b45c27",
   "metadata": {},
   "outputs": [],
   "source": [
    "df.drop('Unnamed: 0',axis=1,inplace=True)"
   ]
  },
  {
   "cell_type": "code",
   "execution_count": 23,
   "id": "335d9895",
   "metadata": {},
   "outputs": [
    {
     "data": {
      "text/html": [
       "<div>\n",
       "<style scoped>\n",
       "    .dataframe tbody tr th:only-of-type {\n",
       "        vertical-align: middle;\n",
       "    }\n",
       "\n",
       "    .dataframe tbody tr th {\n",
       "        vertical-align: top;\n",
       "    }\n",
       "\n",
       "    .dataframe thead th {\n",
       "        text-align: right;\n",
       "    }\n",
       "</style>\n",
       "<table border=\"1\" class=\"dataframe\">\n",
       "  <thead>\n",
       "    <tr style=\"text-align: right;\">\n",
       "      <th></th>\n",
       "      <th>gender</th>\n",
       "      <th>SeniorCitizen</th>\n",
       "      <th>Partner</th>\n",
       "      <th>Dependents</th>\n",
       "      <th>tenure</th>\n",
       "      <th>PhoneService</th>\n",
       "      <th>MultipleLines</th>\n",
       "      <th>InternetService</th>\n",
       "      <th>OnlineSecurity</th>\n",
       "      <th>OnlineBackup</th>\n",
       "      <th>DeviceProtection</th>\n",
       "      <th>TechSupport</th>\n",
       "      <th>StreamingTV</th>\n",
       "      <th>StreamingMovies</th>\n",
       "      <th>Contract</th>\n",
       "      <th>PaperlessBilling</th>\n",
       "      <th>PaymentMethod</th>\n",
       "      <th>MonthlyCharges</th>\n",
       "      <th>TotalCharges</th>\n",
       "      <th>Churn</th>\n",
       "    </tr>\n",
       "  </thead>\n",
       "  <tbody>\n",
       "    <tr>\n",
       "      <th>0</th>\n",
       "      <td>1</td>\n",
       "      <td>0</td>\n",
       "      <td>0</td>\n",
       "      <td>1</td>\n",
       "      <td>1</td>\n",
       "      <td>0</td>\n",
       "      <td>1</td>\n",
       "      <td>0</td>\n",
       "      <td>0</td>\n",
       "      <td>0</td>\n",
       "      <td>0</td>\n",
       "      <td>0</td>\n",
       "      <td>0</td>\n",
       "      <td>0</td>\n",
       "      <td>0</td>\n",
       "      <td>1</td>\n",
       "      <td>2</td>\n",
       "      <td>25.30</td>\n",
       "      <td>2153</td>\n",
       "      <td>1</td>\n",
       "    </tr>\n",
       "    <tr>\n",
       "      <th>1</th>\n",
       "      <td>0</td>\n",
       "      <td>0</td>\n",
       "      <td>0</td>\n",
       "      <td>0</td>\n",
       "      <td>7</td>\n",
       "      <td>1</td>\n",
       "      <td>0</td>\n",
       "      <td>1</td>\n",
       "      <td>0</td>\n",
       "      <td>0</td>\n",
       "      <td>2</td>\n",
       "      <td>0</td>\n",
       "      <td>0</td>\n",
       "      <td>0</td>\n",
       "      <td>0</td>\n",
       "      <td>1</td>\n",
       "      <td>2</td>\n",
       "      <td>75.15</td>\n",
       "      <td>4396</td>\n",
       "      <td>0</td>\n",
       "    </tr>\n",
       "    <tr>\n",
       "      <th>2</th>\n",
       "      <td>0</td>\n",
       "      <td>0</td>\n",
       "      <td>0</td>\n",
       "      <td>1</td>\n",
       "      <td>4</td>\n",
       "      <td>1</td>\n",
       "      <td>0</td>\n",
       "      <td>2</td>\n",
       "      <td>1</td>\n",
       "      <td>1</td>\n",
       "      <td>1</td>\n",
       "      <td>1</td>\n",
       "      <td>1</td>\n",
       "      <td>1</td>\n",
       "      <td>0</td>\n",
       "      <td>1</td>\n",
       "      <td>0</td>\n",
       "      <td>20.05</td>\n",
       "      <td>6211</td>\n",
       "      <td>0</td>\n",
       "    </tr>\n",
       "    <tr>\n",
       "      <th>3</th>\n",
       "      <td>0</td>\n",
       "      <td>0</td>\n",
       "      <td>0</td>\n",
       "      <td>0</td>\n",
       "      <td>29</td>\n",
       "      <td>1</td>\n",
       "      <td>2</td>\n",
       "      <td>1</td>\n",
       "      <td>0</td>\n",
       "      <td>0</td>\n",
       "      <td>0</td>\n",
       "      <td>0</td>\n",
       "      <td>0</td>\n",
       "      <td>0</td>\n",
       "      <td>0</td>\n",
       "      <td>1</td>\n",
       "      <td>1</td>\n",
       "      <td>76.00</td>\n",
       "      <td>1850</td>\n",
       "      <td>0</td>\n",
       "    </tr>\n",
       "    <tr>\n",
       "      <th>4</th>\n",
       "      <td>0</td>\n",
       "      <td>0</td>\n",
       "      <td>0</td>\n",
       "      <td>0</td>\n",
       "      <td>3</td>\n",
       "      <td>1</td>\n",
       "      <td>2</td>\n",
       "      <td>1</td>\n",
       "      <td>0</td>\n",
       "      <td>0</td>\n",
       "      <td>0</td>\n",
       "      <td>0</td>\n",
       "      <td>0</td>\n",
       "      <td>0</td>\n",
       "      <td>0</td>\n",
       "      <td>1</td>\n",
       "      <td>1</td>\n",
       "      <td>75.10</td>\n",
       "      <td>2350</td>\n",
       "      <td>1</td>\n",
       "    </tr>\n",
       "  </tbody>\n",
       "</table>\n",
       "</div>"
      ],
      "text/plain": [
       "   gender  SeniorCitizen  Partner  Dependents  tenure  PhoneService  \\\n",
       "0       1              0        0           1       1             0   \n",
       "1       0              0        0           0       7             1   \n",
       "2       0              0        0           1       4             1   \n",
       "3       0              0        0           0      29             1   \n",
       "4       0              0        0           0       3             1   \n",
       "\n",
       "   MultipleLines  InternetService  OnlineSecurity  OnlineBackup  \\\n",
       "0              1                0               0             0   \n",
       "1              0                1               0             0   \n",
       "2              0                2               1             1   \n",
       "3              2                1               0             0   \n",
       "4              2                1               0             0   \n",
       "\n",
       "   DeviceProtection  TechSupport  StreamingTV  StreamingMovies  Contract  \\\n",
       "0                 0            0            0                0         0   \n",
       "1                 2            0            0                0         0   \n",
       "2                 1            1            1                1         0   \n",
       "3                 0            0            0                0         0   \n",
       "4                 0            0            0                0         0   \n",
       "\n",
       "   PaperlessBilling  PaymentMethod  MonthlyCharges  TotalCharges  Churn  \n",
       "0                 1              2           25.30          2153      1  \n",
       "1                 1              2           75.15          4396      0  \n",
       "2                 1              0           20.05          6211      0  \n",
       "3                 1              1           76.00          1850      0  \n",
       "4                 1              1           75.10          2350      1  "
      ]
     },
     "execution_count": 23,
     "metadata": {},
     "output_type": "execute_result"
    }
   ],
   "source": [
    "df.head()"
   ]
  },
  {
   "cell_type": "code",
   "execution_count": 24,
   "id": "a576b224",
   "metadata": {},
   "outputs": [
    {
     "data": {
      "text/plain": [
       "(5282, 20)"
      ]
     },
     "execution_count": 24,
     "metadata": {},
     "output_type": "execute_result"
    }
   ],
   "source": [
    "df.shape"
   ]
  },
  {
   "cell_type": "code",
   "execution_count": 25,
   "id": "e7ef1e08",
   "metadata": {},
   "outputs": [],
   "source": [
    "#Dataframe is already encoded to integer data type. No need to encode."
   ]
  },
  {
   "cell_type": "code",
   "execution_count": 27,
   "id": "7843791a",
   "metadata": {},
   "outputs": [
    {
     "data": {
      "text/plain": [
       "Index(['gender', 'SeniorCitizen', 'Partner', 'Dependents', 'tenure',\n",
       "       'PhoneService', 'MultipleLines', 'InternetService', 'OnlineSecurity',\n",
       "       'OnlineBackup', 'DeviceProtection', 'TechSupport', 'StreamingTV',\n",
       "       'StreamingMovies', 'Contract', 'PaperlessBilling', 'PaymentMethod',\n",
       "       'MonthlyCharges', 'TotalCharges', 'Churn'],\n",
       "      dtype='object')"
      ]
     },
     "execution_count": 27,
     "metadata": {},
     "output_type": "execute_result"
    }
   ],
   "source": [
    "df.columns"
   ]
  },
  {
   "cell_type": "markdown",
   "id": "fd819c2b",
   "metadata": {},
   "source": [
    "# Separate X,Y & Train, Test"
   ]
  },
  {
   "cell_type": "code",
   "execution_count": 28,
   "id": "518dae2e",
   "metadata": {},
   "outputs": [],
   "source": [
    "x = df.drop('Churn',axis=1)\n",
    "y= df[['Churn']]"
   ]
  },
  {
   "cell_type": "code",
   "execution_count": 29,
   "id": "535768dc",
   "metadata": {},
   "outputs": [
    {
     "data": {
      "text/html": [
       "<div>\n",
       "<style scoped>\n",
       "    .dataframe tbody tr th:only-of-type {\n",
       "        vertical-align: middle;\n",
       "    }\n",
       "\n",
       "    .dataframe tbody tr th {\n",
       "        vertical-align: top;\n",
       "    }\n",
       "\n",
       "    .dataframe thead th {\n",
       "        text-align: right;\n",
       "    }\n",
       "</style>\n",
       "<table border=\"1\" class=\"dataframe\">\n",
       "  <thead>\n",
       "    <tr style=\"text-align: right;\">\n",
       "      <th></th>\n",
       "      <th>gender</th>\n",
       "      <th>SeniorCitizen</th>\n",
       "      <th>Partner</th>\n",
       "      <th>Dependents</th>\n",
       "      <th>tenure</th>\n",
       "      <th>PhoneService</th>\n",
       "      <th>MultipleLines</th>\n",
       "      <th>InternetService</th>\n",
       "      <th>OnlineSecurity</th>\n",
       "      <th>OnlineBackup</th>\n",
       "      <th>DeviceProtection</th>\n",
       "      <th>TechSupport</th>\n",
       "      <th>StreamingTV</th>\n",
       "      <th>StreamingMovies</th>\n",
       "      <th>Contract</th>\n",
       "      <th>PaperlessBilling</th>\n",
       "      <th>PaymentMethod</th>\n",
       "      <th>MonthlyCharges</th>\n",
       "      <th>TotalCharges</th>\n",
       "    </tr>\n",
       "  </thead>\n",
       "  <tbody>\n",
       "    <tr>\n",
       "      <th>0</th>\n",
       "      <td>1</td>\n",
       "      <td>0</td>\n",
       "      <td>0</td>\n",
       "      <td>1</td>\n",
       "      <td>1</td>\n",
       "      <td>0</td>\n",
       "      <td>1</td>\n",
       "      <td>0</td>\n",
       "      <td>0</td>\n",
       "      <td>0</td>\n",
       "      <td>0</td>\n",
       "      <td>0</td>\n",
       "      <td>0</td>\n",
       "      <td>0</td>\n",
       "      <td>0</td>\n",
       "      <td>1</td>\n",
       "      <td>2</td>\n",
       "      <td>25.30</td>\n",
       "      <td>2153</td>\n",
       "    </tr>\n",
       "    <tr>\n",
       "      <th>1</th>\n",
       "      <td>0</td>\n",
       "      <td>0</td>\n",
       "      <td>0</td>\n",
       "      <td>0</td>\n",
       "      <td>7</td>\n",
       "      <td>1</td>\n",
       "      <td>0</td>\n",
       "      <td>1</td>\n",
       "      <td>0</td>\n",
       "      <td>0</td>\n",
       "      <td>2</td>\n",
       "      <td>0</td>\n",
       "      <td>0</td>\n",
       "      <td>0</td>\n",
       "      <td>0</td>\n",
       "      <td>1</td>\n",
       "      <td>2</td>\n",
       "      <td>75.15</td>\n",
       "      <td>4396</td>\n",
       "    </tr>\n",
       "    <tr>\n",
       "      <th>2</th>\n",
       "      <td>0</td>\n",
       "      <td>0</td>\n",
       "      <td>0</td>\n",
       "      <td>1</td>\n",
       "      <td>4</td>\n",
       "      <td>1</td>\n",
       "      <td>0</td>\n",
       "      <td>2</td>\n",
       "      <td>1</td>\n",
       "      <td>1</td>\n",
       "      <td>1</td>\n",
       "      <td>1</td>\n",
       "      <td>1</td>\n",
       "      <td>1</td>\n",
       "      <td>0</td>\n",
       "      <td>1</td>\n",
       "      <td>0</td>\n",
       "      <td>20.05</td>\n",
       "      <td>6211</td>\n",
       "    </tr>\n",
       "    <tr>\n",
       "      <th>3</th>\n",
       "      <td>0</td>\n",
       "      <td>0</td>\n",
       "      <td>0</td>\n",
       "      <td>0</td>\n",
       "      <td>29</td>\n",
       "      <td>1</td>\n",
       "      <td>2</td>\n",
       "      <td>1</td>\n",
       "      <td>0</td>\n",
       "      <td>0</td>\n",
       "      <td>0</td>\n",
       "      <td>0</td>\n",
       "      <td>0</td>\n",
       "      <td>0</td>\n",
       "      <td>0</td>\n",
       "      <td>1</td>\n",
       "      <td>1</td>\n",
       "      <td>76.00</td>\n",
       "      <td>1850</td>\n",
       "    </tr>\n",
       "    <tr>\n",
       "      <th>4</th>\n",
       "      <td>0</td>\n",
       "      <td>0</td>\n",
       "      <td>0</td>\n",
       "      <td>0</td>\n",
       "      <td>3</td>\n",
       "      <td>1</td>\n",
       "      <td>2</td>\n",
       "      <td>1</td>\n",
       "      <td>0</td>\n",
       "      <td>0</td>\n",
       "      <td>0</td>\n",
       "      <td>0</td>\n",
       "      <td>0</td>\n",
       "      <td>0</td>\n",
       "      <td>0</td>\n",
       "      <td>1</td>\n",
       "      <td>1</td>\n",
       "      <td>75.10</td>\n",
       "      <td>2350</td>\n",
       "    </tr>\n",
       "  </tbody>\n",
       "</table>\n",
       "</div>"
      ],
      "text/plain": [
       "   gender  SeniorCitizen  Partner  Dependents  tenure  PhoneService  \\\n",
       "0       1              0        0           1       1             0   \n",
       "1       0              0        0           0       7             1   \n",
       "2       0              0        0           1       4             1   \n",
       "3       0              0        0           0      29             1   \n",
       "4       0              0        0           0       3             1   \n",
       "\n",
       "   MultipleLines  InternetService  OnlineSecurity  OnlineBackup  \\\n",
       "0              1                0               0             0   \n",
       "1              0                1               0             0   \n",
       "2              0                2               1             1   \n",
       "3              2                1               0             0   \n",
       "4              2                1               0             0   \n",
       "\n",
       "   DeviceProtection  TechSupport  StreamingTV  StreamingMovies  Contract  \\\n",
       "0                 0            0            0                0         0   \n",
       "1                 2            0            0                0         0   \n",
       "2                 1            1            1                1         0   \n",
       "3                 0            0            0                0         0   \n",
       "4                 0            0            0                0         0   \n",
       "\n",
       "   PaperlessBilling  PaymentMethod  MonthlyCharges  TotalCharges  \n",
       "0                 1              2           25.30          2153  \n",
       "1                 1              2           75.15          4396  \n",
       "2                 1              0           20.05          6211  \n",
       "3                 1              1           76.00          1850  \n",
       "4                 1              1           75.10          2350  "
      ]
     },
     "execution_count": 29,
     "metadata": {},
     "output_type": "execute_result"
    }
   ],
   "source": [
    "x.head()"
   ]
  },
  {
   "cell_type": "code",
   "execution_count": 30,
   "id": "601c94da",
   "metadata": {},
   "outputs": [
    {
     "data": {
      "text/html": [
       "<div>\n",
       "<style scoped>\n",
       "    .dataframe tbody tr th:only-of-type {\n",
       "        vertical-align: middle;\n",
       "    }\n",
       "\n",
       "    .dataframe tbody tr th {\n",
       "        vertical-align: top;\n",
       "    }\n",
       "\n",
       "    .dataframe thead th {\n",
       "        text-align: right;\n",
       "    }\n",
       "</style>\n",
       "<table border=\"1\" class=\"dataframe\">\n",
       "  <thead>\n",
       "    <tr style=\"text-align: right;\">\n",
       "      <th></th>\n",
       "      <th>Churn</th>\n",
       "    </tr>\n",
       "  </thead>\n",
       "  <tbody>\n",
       "    <tr>\n",
       "      <th>0</th>\n",
       "      <td>1</td>\n",
       "    </tr>\n",
       "    <tr>\n",
       "      <th>1</th>\n",
       "      <td>0</td>\n",
       "    </tr>\n",
       "    <tr>\n",
       "      <th>2</th>\n",
       "      <td>0</td>\n",
       "    </tr>\n",
       "    <tr>\n",
       "      <th>3</th>\n",
       "      <td>0</td>\n",
       "    </tr>\n",
       "    <tr>\n",
       "      <th>4</th>\n",
       "      <td>1</td>\n",
       "    </tr>\n",
       "  </tbody>\n",
       "</table>\n",
       "</div>"
      ],
      "text/plain": [
       "   Churn\n",
       "0      1\n",
       "1      0\n",
       "2      0\n",
       "3      0\n",
       "4      1"
      ]
     },
     "execution_count": 30,
     "metadata": {},
     "output_type": "execute_result"
    }
   ],
   "source": [
    "y.head()"
   ]
  },
  {
   "cell_type": "code",
   "execution_count": 31,
   "id": "78dbb036",
   "metadata": {},
   "outputs": [
    {
     "data": {
      "text/plain": [
       "(5282, 19)"
      ]
     },
     "execution_count": 31,
     "metadata": {},
     "output_type": "execute_result"
    }
   ],
   "source": [
    "x.shape"
   ]
  },
  {
   "cell_type": "code",
   "execution_count": 32,
   "id": "3374d20c",
   "metadata": {},
   "outputs": [
    {
     "data": {
      "text/plain": [
       "(5282, 1)"
      ]
     },
     "execution_count": 32,
     "metadata": {},
     "output_type": "execute_result"
    }
   ],
   "source": [
    "y.shape"
   ]
  },
  {
   "cell_type": "code",
   "execution_count": 33,
   "id": "e3d3e689",
   "metadata": {},
   "outputs": [
    {
     "data": {
      "text/plain": [
       "Churn\n",
       "0    3892\n",
       "1    1390\n",
       "Name: count, dtype: int64"
      ]
     },
     "execution_count": 33,
     "metadata": {},
     "output_type": "execute_result"
    }
   ],
   "source": [
    "df.Churn.value_counts()"
   ]
  },
  {
   "cell_type": "code",
   "execution_count": 34,
   "id": "79c4a07f",
   "metadata": {},
   "outputs": [],
   "source": [
    "not_churned = (3892/(3892+1390))*100\n",
    "churned = (1390/(3892+1390))*100"
   ]
  },
  {
   "cell_type": "code",
   "execution_count": 35,
   "id": "3c57d472",
   "metadata": {},
   "outputs": [
    {
     "name": "stdout",
     "output_type": "stream",
     "text": [
      "Not Churned 73.68421052631578 percent of total people\n",
      "Churned 26.31578947368421 percent of total people\n"
     ]
    }
   ],
   "source": [
    "print('Not Churned {} percent of total people'.format(not_churned))\n",
    "print('Churned {} percent of total people'.format(churned))"
   ]
  },
  {
   "cell_type": "markdown",
   "id": "22a8d6e0",
   "metadata": {},
   "source": [
    "Sampling Techniques : \n",
    "1. Synthetic Minority Over-sampling Technique(SMOTE)\n",
    "2. NearMiss for Under-Sampling\n",
    "3. Over-Sampling"
   ]
  },
  {
   "cell_type": "markdown",
   "id": "19b277cd",
   "metadata": {},
   "source": [
    "# Synthetic Minority Over-sampling Technique(SMOTE)"
   ]
  },
  {
   "cell_type": "code",
   "execution_count": 36,
   "id": "05ea2476",
   "metadata": {},
   "outputs": [
    {
     "name": "stdout",
     "output_type": "stream",
     "text": [
      "Requirement already satisfied: imblearn in c:\\users\\dell\\appdata\\local\\programs\\python\\python311\\lib\\site-packages (0.0)\n",
      "Requirement already satisfied: imbalanced-learn in c:\\users\\dell\\appdata\\local\\programs\\python\\python311\\lib\\site-packages (from imblearn) (0.10.1)\n",
      "Requirement already satisfied: numpy>=1.17.3 in c:\\users\\dell\\appdata\\local\\programs\\python\\python311\\lib\\site-packages (from imbalanced-learn->imblearn) (1.24.3)\n",
      "Requirement already satisfied: scipy>=1.3.2 in c:\\users\\dell\\appdata\\local\\programs\\python\\python311\\lib\\site-packages (from imbalanced-learn->imblearn) (1.10.1)\n",
      "Requirement already satisfied: scikit-learn>=1.0.2 in c:\\users\\dell\\appdata\\local\\programs\\python\\python311\\lib\\site-packages (from imbalanced-learn->imblearn) (1.2.2)\n",
      "Requirement already satisfied: joblib>=1.1.1 in c:\\users\\dell\\appdata\\local\\programs\\python\\python311\\lib\\site-packages (from imbalanced-learn->imblearn) (1.2.0)\n",
      "Requirement already satisfied: threadpoolctl>=2.0.0 in c:\\users\\dell\\appdata\\local\\programs\\python\\python311\\lib\\site-packages (from imbalanced-learn->imblearn) (3.1.0)\n"
     ]
    }
   ],
   "source": [
    "!pip install imblearn"
   ]
  },
  {
   "cell_type": "code",
   "execution_count": 37,
   "id": "bb0a54ba",
   "metadata": {},
   "outputs": [],
   "source": [
    "from imblearn.combine import SMOTETomek\n",
    "sm = SMOTETomek(random_state=44)"
   ]
  },
  {
   "cell_type": "code",
   "execution_count": 38,
   "id": "4ce107ca",
   "metadata": {},
   "outputs": [
    {
     "data": {
      "text/plain": [
       "Churn\n",
       "0        3892\n",
       "1        1390\n",
       "Name: count, dtype: int64"
      ]
     },
     "execution_count": 38,
     "metadata": {},
     "output_type": "execute_result"
    }
   ],
   "source": [
    "y.value_counts() #before sampling"
   ]
  },
  {
   "cell_type": "code",
   "execution_count": 39,
   "id": "4083038e",
   "metadata": {},
   "outputs": [],
   "source": [
    "X,Y = sm.fit_resample(x,y)"
   ]
  },
  {
   "cell_type": "code",
   "execution_count": 40,
   "id": "af4c7dbb",
   "metadata": {},
   "outputs": [
    {
     "data": {
      "text/plain": [
       "Churn\n",
       "0        3603\n",
       "1        3603\n",
       "Name: count, dtype: int64"
      ]
     },
     "execution_count": 40,
     "metadata": {},
     "output_type": "execute_result"
    }
   ],
   "source": [
    "Y.value_counts()"
   ]
  },
  {
   "cell_type": "markdown",
   "id": "177abaa4",
   "metadata": {},
   "source": [
    "# NearMiss for Under-Sampling"
   ]
  },
  {
   "cell_type": "code",
   "execution_count": 41,
   "id": "a66e61f8",
   "metadata": {},
   "outputs": [],
   "source": [
    "from imblearn.under_sampling import NearMiss"
   ]
  },
  {
   "cell_type": "code",
   "execution_count": 42,
   "id": "3002c68e",
   "metadata": {},
   "outputs": [],
   "source": [
    "nm = NearMiss()\n",
    "new_x, new_y  = nm.fit_resample(x,y)"
   ]
  },
  {
   "cell_type": "code",
   "execution_count": 43,
   "id": "8755bbc5",
   "metadata": {},
   "outputs": [
    {
     "data": {
      "text/plain": [
       "Churn\n",
       "0        1390\n",
       "1        1390\n",
       "Name: count, dtype: int64"
      ]
     },
     "execution_count": 43,
     "metadata": {},
     "output_type": "execute_result"
    }
   ],
   "source": [
    "new_y.value_counts()"
   ]
  },
  {
   "cell_type": "code",
   "execution_count": 44,
   "id": "683f4470",
   "metadata": {},
   "outputs": [
    {
     "data": {
      "text/plain": [
       "gender  SeniorCitizen  Partner  Dependents  tenure  PhoneService  MultipleLines  InternetService  OnlineSecurity  OnlineBackup  DeviceProtection  TechSupport  StreamingTV  StreamingMovies  Contract  PaperlessBilling  PaymentMethod  MonthlyCharges  TotalCharges\n",
       "1       0              0        0           1       1             0              1                0               0             0                 0            0            0                0         1                 2              69.90           5454            3\n",
       "0       0              0        0           1       1             0              2                1               1             1                 1            1            1                0         0                 3              20.90           1624            3\n",
       "1       0              0        0           1       1             0              2                1               1             1                 1            1            1                0         0                 3              20.20           1610            3\n",
       "0       0              0        0           1       1             0              2                1               1             1                 1            1            1                0         0                 3              19.90           1492            2\n",
       "1       0              0        0           1       1             0              0                0               0             0                 0            0            0                0         0                 2              45.30           3816            2\n",
       "                                                                                                                                                                                                                                                                       ..\n",
       "0       0              1        1           28      1             0              1                2               0             0                 0            0            2                1         1                 0              82.85           1959            1\n",
       "                                            29      1             0              1                0               0             0                 0            2            2                0         1                 1              87.80           2269            1\n",
       "                                            30      1             0              1                0               0             2                 0            0            2                1         0                 2              86.45           2191            1\n",
       "                                                                  2              1                0               0             2                 0            2            2                0         1                 2              100.05          2647            1\n",
       "1       1              1        1           66      1             2              1                0               0             2                 0            2            2                0         1                 1              99.50           5391            1\n",
       "Name: count, Length: 2759, dtype: int64"
      ]
     },
     "execution_count": 44,
     "metadata": {},
     "output_type": "execute_result"
    }
   ],
   "source": [
    "new_x.value_counts()"
   ]
  },
  {
   "cell_type": "markdown",
   "id": "7fbd3edf",
   "metadata": {},
   "source": [
    "# Over-Sampling"
   ]
  },
  {
   "cell_type": "code",
   "execution_count": 45,
   "id": "1e8bdb9c",
   "metadata": {},
   "outputs": [
    {
     "data": {
      "text/html": [
       "<div>\n",
       "<style scoped>\n",
       "    .dataframe tbody tr th:only-of-type {\n",
       "        vertical-align: middle;\n",
       "    }\n",
       "\n",
       "    .dataframe tbody tr th {\n",
       "        vertical-align: top;\n",
       "    }\n",
       "\n",
       "    .dataframe thead th {\n",
       "        text-align: right;\n",
       "    }\n",
       "</style>\n",
       "<table border=\"1\" class=\"dataframe\">\n",
       "  <thead>\n",
       "    <tr style=\"text-align: right;\">\n",
       "      <th></th>\n",
       "      <th>Unnamed: 0</th>\n",
       "      <th>gender</th>\n",
       "      <th>SeniorCitizen</th>\n",
       "      <th>Partner</th>\n",
       "      <th>Dependents</th>\n",
       "      <th>tenure</th>\n",
       "      <th>PhoneService</th>\n",
       "      <th>MultipleLines</th>\n",
       "      <th>InternetService</th>\n",
       "      <th>OnlineSecurity</th>\n",
       "      <th>...</th>\n",
       "      <th>DeviceProtection</th>\n",
       "      <th>TechSupport</th>\n",
       "      <th>StreamingTV</th>\n",
       "      <th>StreamingMovies</th>\n",
       "      <th>Contract</th>\n",
       "      <th>PaperlessBilling</th>\n",
       "      <th>PaymentMethod</th>\n",
       "      <th>MonthlyCharges</th>\n",
       "      <th>TotalCharges</th>\n",
       "      <th>Churn</th>\n",
       "    </tr>\n",
       "  </thead>\n",
       "  <tbody>\n",
       "    <tr>\n",
       "      <th>0</th>\n",
       "      <td>6607</td>\n",
       "      <td>1</td>\n",
       "      <td>0</td>\n",
       "      <td>0</td>\n",
       "      <td>1</td>\n",
       "      <td>1</td>\n",
       "      <td>0</td>\n",
       "      <td>1</td>\n",
       "      <td>0</td>\n",
       "      <td>0</td>\n",
       "      <td>...</td>\n",
       "      <td>0</td>\n",
       "      <td>0</td>\n",
       "      <td>0</td>\n",
       "      <td>0</td>\n",
       "      <td>0</td>\n",
       "      <td>1</td>\n",
       "      <td>2</td>\n",
       "      <td>25.30</td>\n",
       "      <td>2153</td>\n",
       "      <td>1</td>\n",
       "    </tr>\n",
       "    <tr>\n",
       "      <th>1</th>\n",
       "      <td>2598</td>\n",
       "      <td>0</td>\n",
       "      <td>0</td>\n",
       "      <td>0</td>\n",
       "      <td>0</td>\n",
       "      <td>7</td>\n",
       "      <td>1</td>\n",
       "      <td>0</td>\n",
       "      <td>1</td>\n",
       "      <td>0</td>\n",
       "      <td>...</td>\n",
       "      <td>2</td>\n",
       "      <td>0</td>\n",
       "      <td>0</td>\n",
       "      <td>0</td>\n",
       "      <td>0</td>\n",
       "      <td>1</td>\n",
       "      <td>2</td>\n",
       "      <td>75.15</td>\n",
       "      <td>4396</td>\n",
       "      <td>0</td>\n",
       "    </tr>\n",
       "    <tr>\n",
       "      <th>2</th>\n",
       "      <td>2345</td>\n",
       "      <td>0</td>\n",
       "      <td>0</td>\n",
       "      <td>0</td>\n",
       "      <td>1</td>\n",
       "      <td>4</td>\n",
       "      <td>1</td>\n",
       "      <td>0</td>\n",
       "      <td>2</td>\n",
       "      <td>1</td>\n",
       "      <td>...</td>\n",
       "      <td>1</td>\n",
       "      <td>1</td>\n",
       "      <td>1</td>\n",
       "      <td>1</td>\n",
       "      <td>0</td>\n",
       "      <td>1</td>\n",
       "      <td>0</td>\n",
       "      <td>20.05</td>\n",
       "      <td>6211</td>\n",
       "      <td>0</td>\n",
       "    </tr>\n",
       "    <tr>\n",
       "      <th>3</th>\n",
       "      <td>4093</td>\n",
       "      <td>0</td>\n",
       "      <td>0</td>\n",
       "      <td>0</td>\n",
       "      <td>0</td>\n",
       "      <td>29</td>\n",
       "      <td>1</td>\n",
       "      <td>2</td>\n",
       "      <td>1</td>\n",
       "      <td>0</td>\n",
       "      <td>...</td>\n",
       "      <td>0</td>\n",
       "      <td>0</td>\n",
       "      <td>0</td>\n",
       "      <td>0</td>\n",
       "      <td>0</td>\n",
       "      <td>1</td>\n",
       "      <td>1</td>\n",
       "      <td>76.00</td>\n",
       "      <td>1850</td>\n",
       "      <td>0</td>\n",
       "    </tr>\n",
       "    <tr>\n",
       "      <th>4</th>\n",
       "      <td>693</td>\n",
       "      <td>0</td>\n",
       "      <td>0</td>\n",
       "      <td>0</td>\n",
       "      <td>0</td>\n",
       "      <td>3</td>\n",
       "      <td>1</td>\n",
       "      <td>2</td>\n",
       "      <td>1</td>\n",
       "      <td>0</td>\n",
       "      <td>...</td>\n",
       "      <td>0</td>\n",
       "      <td>0</td>\n",
       "      <td>0</td>\n",
       "      <td>0</td>\n",
       "      <td>0</td>\n",
       "      <td>1</td>\n",
       "      <td>1</td>\n",
       "      <td>75.10</td>\n",
       "      <td>2350</td>\n",
       "      <td>1</td>\n",
       "    </tr>\n",
       "  </tbody>\n",
       "</table>\n",
       "<p>5 rows × 21 columns</p>\n",
       "</div>"
      ],
      "text/plain": [
       "   Unnamed: 0  gender  SeniorCitizen  Partner  Dependents  tenure  \\\n",
       "0        6607       1              0        0           1       1   \n",
       "1        2598       0              0        0           0       7   \n",
       "2        2345       0              0        0           1       4   \n",
       "3        4093       0              0        0           0      29   \n",
       "4         693       0              0        0           0       3   \n",
       "\n",
       "   PhoneService  MultipleLines  InternetService  OnlineSecurity  ...  \\\n",
       "0             0              1                0               0  ...   \n",
       "1             1              0                1               0  ...   \n",
       "2             1              0                2               1  ...   \n",
       "3             1              2                1               0  ...   \n",
       "4             1              2                1               0  ...   \n",
       "\n",
       "   DeviceProtection  TechSupport  StreamingTV  StreamingMovies  Contract  \\\n",
       "0                 0            0            0                0         0   \n",
       "1                 2            0            0                0         0   \n",
       "2                 1            1            1                1         0   \n",
       "3                 0            0            0                0         0   \n",
       "4                 0            0            0                0         0   \n",
       "\n",
       "   PaperlessBilling  PaymentMethod  MonthlyCharges  TotalCharges  Churn  \n",
       "0                 1              2           25.30          2153      1  \n",
       "1                 1              2           75.15          4396      0  \n",
       "2                 1              0           20.05          6211      0  \n",
       "3                 1              1           76.00          1850      0  \n",
       "4                 1              1           75.10          2350      1  \n",
       "\n",
       "[5 rows x 21 columns]"
      ]
     },
     "execution_count": 45,
     "metadata": {},
     "output_type": "execute_result"
    }
   ],
   "source": [
    "df2.head()"
   ]
  },
  {
   "cell_type": "code",
   "execution_count": 46,
   "id": "389228f2",
   "metadata": {},
   "outputs": [
    {
     "data": {
      "text/plain": [
       "Churn\n",
       "0    3892\n",
       "1    1390\n",
       "Name: count, dtype: int64"
      ]
     },
     "execution_count": 46,
     "metadata": {},
     "output_type": "execute_result"
    }
   ],
   "source": [
    "df2.Churn.value_counts()"
   ]
  },
  {
   "cell_type": "code",
   "execution_count": 47,
   "id": "c7716505",
   "metadata": {},
   "outputs": [],
   "source": [
    "from imblearn.over_sampling import RandomOverSampler"
   ]
  },
  {
   "cell_type": "code",
   "execution_count": 48,
   "id": "d68136da",
   "metadata": {},
   "outputs": [],
   "source": [
    "over = RandomOverSampler(random_state=44)"
   ]
  },
  {
   "cell_type": "code",
   "execution_count": 49,
   "id": "69dda2fc",
   "metadata": {},
   "outputs": [],
   "source": [
    "x_new, y_new = over.fit_resample(x,y)"
   ]
  },
  {
   "cell_type": "code",
   "execution_count": 50,
   "id": "a671c5ca",
   "metadata": {},
   "outputs": [
    {
     "data": {
      "text/plain": [
       "Churn\n",
       "0        3892\n",
       "1        3892\n",
       "Name: count, dtype: int64"
      ]
     },
     "execution_count": 50,
     "metadata": {},
     "output_type": "execute_result"
    }
   ],
   "source": [
    "y_new.value_counts()"
   ]
  },
  {
   "cell_type": "markdown",
   "id": "27fd122d",
   "metadata": {},
   "source": [
    "Types of Cross-Validation :\n",
    "1. Hold Out Cross Validation\n",
    "2. K-Fold Cross Validation\n",
    "3. Leave One-Out Cross Validation (LOOCV)\n",
    "4. Stratified K Fold Cross Validation"
   ]
  },
  {
   "cell_type": "markdown",
   "id": "51c4620f",
   "metadata": {},
   "source": [
    "# Hold Out Cross Validation"
   ]
  },
  {
   "cell_type": "code",
   "execution_count": 51,
   "id": "53bac804",
   "metadata": {},
   "outputs": [],
   "source": [
    "from sklearn.model_selection import train_test_split as tts"
   ]
  },
  {
   "cell_type": "code",
   "execution_count": 52,
   "id": "cdeca1ee",
   "metadata": {},
   "outputs": [],
   "source": [
    "xtrain,xtest,ytrain,ytest = tts(x_new,y_new,random_state=42)"
   ]
  },
  {
   "cell_type": "code",
   "execution_count": 53,
   "id": "4e4c8e14",
   "metadata": {},
   "outputs": [],
   "source": [
    "xtrain.to_csv('nishat.csv')"
   ]
  },
  {
   "cell_type": "code",
   "execution_count": 54,
   "id": "bf8bc508",
   "metadata": {},
   "outputs": [],
   "source": [
    "train,test = tts(df,train_size=.8,random_state=50)"
   ]
  },
  {
   "cell_type": "code",
   "execution_count": 55,
   "id": "3c23b85a",
   "metadata": {},
   "outputs": [
    {
     "data": {
      "text/html": [
       "<div>\n",
       "<style scoped>\n",
       "    .dataframe tbody tr th:only-of-type {\n",
       "        vertical-align: middle;\n",
       "    }\n",
       "\n",
       "    .dataframe tbody tr th {\n",
       "        vertical-align: top;\n",
       "    }\n",
       "\n",
       "    .dataframe thead th {\n",
       "        text-align: right;\n",
       "    }\n",
       "</style>\n",
       "<table border=\"1\" class=\"dataframe\">\n",
       "  <thead>\n",
       "    <tr style=\"text-align: right;\">\n",
       "      <th></th>\n",
       "      <th>gender</th>\n",
       "      <th>SeniorCitizen</th>\n",
       "      <th>Partner</th>\n",
       "      <th>Dependents</th>\n",
       "      <th>tenure</th>\n",
       "      <th>PhoneService</th>\n",
       "      <th>MultipleLines</th>\n",
       "      <th>InternetService</th>\n",
       "      <th>OnlineSecurity</th>\n",
       "      <th>OnlineBackup</th>\n",
       "      <th>DeviceProtection</th>\n",
       "      <th>TechSupport</th>\n",
       "      <th>StreamingTV</th>\n",
       "      <th>StreamingMovies</th>\n",
       "      <th>Contract</th>\n",
       "      <th>PaperlessBilling</th>\n",
       "      <th>PaymentMethod</th>\n",
       "      <th>MonthlyCharges</th>\n",
       "      <th>TotalCharges</th>\n",
       "      <th>Churn</th>\n",
       "    </tr>\n",
       "  </thead>\n",
       "  <tbody>\n",
       "    <tr>\n",
       "      <th>1764</th>\n",
       "      <td>1</td>\n",
       "      <td>0</td>\n",
       "      <td>0</td>\n",
       "      <td>0</td>\n",
       "      <td>24</td>\n",
       "      <td>1</td>\n",
       "      <td>0</td>\n",
       "      <td>1</td>\n",
       "      <td>0</td>\n",
       "      <td>0</td>\n",
       "      <td>0</td>\n",
       "      <td>0</td>\n",
       "      <td>0</td>\n",
       "      <td>2</td>\n",
       "      <td>0</td>\n",
       "      <td>1</td>\n",
       "      <td>1</td>\n",
       "      <td>79.85</td>\n",
       "      <td>1628</td>\n",
       "      <td>0</td>\n",
       "    </tr>\n",
       "    <tr>\n",
       "      <th>5160</th>\n",
       "      <td>1</td>\n",
       "      <td>0</td>\n",
       "      <td>0</td>\n",
       "      <td>0</td>\n",
       "      <td>69</td>\n",
       "      <td>1</td>\n",
       "      <td>2</td>\n",
       "      <td>1</td>\n",
       "      <td>0</td>\n",
       "      <td>2</td>\n",
       "      <td>0</td>\n",
       "      <td>2</td>\n",
       "      <td>2</td>\n",
       "      <td>2</td>\n",
       "      <td>1</td>\n",
       "      <td>1</td>\n",
       "      <td>0</td>\n",
       "      <td>104.70</td>\n",
       "      <td>5630</td>\n",
       "      <td>1</td>\n",
       "    </tr>\n",
       "    <tr>\n",
       "      <th>3571</th>\n",
       "      <td>0</td>\n",
       "      <td>0</td>\n",
       "      <td>0</td>\n",
       "      <td>0</td>\n",
       "      <td>7</td>\n",
       "      <td>1</td>\n",
       "      <td>0</td>\n",
       "      <td>2</td>\n",
       "      <td>1</td>\n",
       "      <td>1</td>\n",
       "      <td>1</td>\n",
       "      <td>1</td>\n",
       "      <td>1</td>\n",
       "      <td>1</td>\n",
       "      <td>0</td>\n",
       "      <td>0</td>\n",
       "      <td>3</td>\n",
       "      <td>20.65</td>\n",
       "      <td>989</td>\n",
       "      <td>0</td>\n",
       "    </tr>\n",
       "    <tr>\n",
       "      <th>1268</th>\n",
       "      <td>1</td>\n",
       "      <td>1</td>\n",
       "      <td>1</td>\n",
       "      <td>0</td>\n",
       "      <td>59</td>\n",
       "      <td>0</td>\n",
       "      <td>1</td>\n",
       "      <td>0</td>\n",
       "      <td>0</td>\n",
       "      <td>2</td>\n",
       "      <td>0</td>\n",
       "      <td>0</td>\n",
       "      <td>2</td>\n",
       "      <td>2</td>\n",
       "      <td>0</td>\n",
       "      <td>1</td>\n",
       "      <td>2</td>\n",
       "      <td>50.25</td>\n",
       "      <td>2590</td>\n",
       "      <td>0</td>\n",
       "    </tr>\n",
       "    <tr>\n",
       "      <th>4064</th>\n",
       "      <td>1</td>\n",
       "      <td>0</td>\n",
       "      <td>1</td>\n",
       "      <td>0</td>\n",
       "      <td>8</td>\n",
       "      <td>1</td>\n",
       "      <td>0</td>\n",
       "      <td>2</td>\n",
       "      <td>1</td>\n",
       "      <td>1</td>\n",
       "      <td>1</td>\n",
       "      <td>1</td>\n",
       "      <td>1</td>\n",
       "      <td>1</td>\n",
       "      <td>0</td>\n",
       "      <td>0</td>\n",
       "      <td>3</td>\n",
       "      <td>20.25</td>\n",
       "      <td>1029</td>\n",
       "      <td>0</td>\n",
       "    </tr>\n",
       "  </tbody>\n",
       "</table>\n",
       "</div>"
      ],
      "text/plain": [
       "      gender  SeniorCitizen  Partner  Dependents  tenure  PhoneService  \\\n",
       "1764       1              0        0           0      24             1   \n",
       "5160       1              0        0           0      69             1   \n",
       "3571       0              0        0           0       7             1   \n",
       "1268       1              1        1           0      59             0   \n",
       "4064       1              0        1           0       8             1   \n",
       "\n",
       "      MultipleLines  InternetService  OnlineSecurity  OnlineBackup  \\\n",
       "1764              0                1               0             0   \n",
       "5160              2                1               0             2   \n",
       "3571              0                2               1             1   \n",
       "1268              1                0               0             2   \n",
       "4064              0                2               1             1   \n",
       "\n",
       "      DeviceProtection  TechSupport  StreamingTV  StreamingMovies  Contract  \\\n",
       "1764                 0            0            0                2         0   \n",
       "5160                 0            2            2                2         1   \n",
       "3571                 1            1            1                1         0   \n",
       "1268                 0            0            2                2         0   \n",
       "4064                 1            1            1                1         0   \n",
       "\n",
       "      PaperlessBilling  PaymentMethod  MonthlyCharges  TotalCharges  Churn  \n",
       "1764                 1              1           79.85          1628      0  \n",
       "5160                 1              0          104.70          5630      1  \n",
       "3571                 0              3           20.65           989      0  \n",
       "1268                 1              2           50.25          2590      0  \n",
       "4064                 0              3           20.25          1029      0  "
      ]
     },
     "execution_count": 55,
     "metadata": {},
     "output_type": "execute_result"
    }
   ],
   "source": [
    "train.head()"
   ]
  },
  {
   "cell_type": "code",
   "execution_count": 56,
   "id": "ce32329b",
   "metadata": {},
   "outputs": [
    {
     "data": {
      "text/html": [
       "<div>\n",
       "<style scoped>\n",
       "    .dataframe tbody tr th:only-of-type {\n",
       "        vertical-align: middle;\n",
       "    }\n",
       "\n",
       "    .dataframe tbody tr th {\n",
       "        vertical-align: top;\n",
       "    }\n",
       "\n",
       "    .dataframe thead th {\n",
       "        text-align: right;\n",
       "    }\n",
       "</style>\n",
       "<table border=\"1\" class=\"dataframe\">\n",
       "  <thead>\n",
       "    <tr style=\"text-align: right;\">\n",
       "      <th></th>\n",
       "      <th>gender</th>\n",
       "      <th>SeniorCitizen</th>\n",
       "      <th>Partner</th>\n",
       "      <th>Dependents</th>\n",
       "      <th>tenure</th>\n",
       "      <th>PhoneService</th>\n",
       "      <th>MultipleLines</th>\n",
       "      <th>InternetService</th>\n",
       "      <th>OnlineSecurity</th>\n",
       "      <th>OnlineBackup</th>\n",
       "      <th>DeviceProtection</th>\n",
       "      <th>TechSupport</th>\n",
       "      <th>StreamingTV</th>\n",
       "      <th>StreamingMovies</th>\n",
       "      <th>Contract</th>\n",
       "      <th>PaperlessBilling</th>\n",
       "      <th>PaymentMethod</th>\n",
       "      <th>MonthlyCharges</th>\n",
       "      <th>TotalCharges</th>\n",
       "      <th>Churn</th>\n",
       "    </tr>\n",
       "  </thead>\n",
       "  <tbody>\n",
       "    <tr>\n",
       "      <th>2273</th>\n",
       "      <td>1</td>\n",
       "      <td>0</td>\n",
       "      <td>1</td>\n",
       "      <td>1</td>\n",
       "      <td>36</td>\n",
       "      <td>0</td>\n",
       "      <td>1</td>\n",
       "      <td>0</td>\n",
       "      <td>2</td>\n",
       "      <td>0</td>\n",
       "      <td>2</td>\n",
       "      <td>2</td>\n",
       "      <td>2</td>\n",
       "      <td>2</td>\n",
       "      <td>1</td>\n",
       "      <td>0</td>\n",
       "      <td>1</td>\n",
       "      <td>60.70</td>\n",
       "      <td>1868</td>\n",
       "      <td>0</td>\n",
       "    </tr>\n",
       "    <tr>\n",
       "      <th>2802</th>\n",
       "      <td>0</td>\n",
       "      <td>0</td>\n",
       "      <td>1</td>\n",
       "      <td>1</td>\n",
       "      <td>24</td>\n",
       "      <td>1</td>\n",
       "      <td>0</td>\n",
       "      <td>2</td>\n",
       "      <td>1</td>\n",
       "      <td>1</td>\n",
       "      <td>1</td>\n",
       "      <td>1</td>\n",
       "      <td>1</td>\n",
       "      <td>1</td>\n",
       "      <td>1</td>\n",
       "      <td>0</td>\n",
       "      <td>3</td>\n",
       "      <td>19.90</td>\n",
       "      <td>4455</td>\n",
       "      <td>0</td>\n",
       "    </tr>\n",
       "    <tr>\n",
       "      <th>2471</th>\n",
       "      <td>0</td>\n",
       "      <td>0</td>\n",
       "      <td>0</td>\n",
       "      <td>0</td>\n",
       "      <td>42</td>\n",
       "      <td>1</td>\n",
       "      <td>2</td>\n",
       "      <td>1</td>\n",
       "      <td>2</td>\n",
       "      <td>0</td>\n",
       "      <td>2</td>\n",
       "      <td>0</td>\n",
       "      <td>2</td>\n",
       "      <td>2</td>\n",
       "      <td>0</td>\n",
       "      <td>1</td>\n",
       "      <td>2</td>\n",
       "      <td>105.20</td>\n",
       "      <td>3752</td>\n",
       "      <td>1</td>\n",
       "    </tr>\n",
       "    <tr>\n",
       "      <th>3388</th>\n",
       "      <td>1</td>\n",
       "      <td>0</td>\n",
       "      <td>1</td>\n",
       "      <td>0</td>\n",
       "      <td>69</td>\n",
       "      <td>1</td>\n",
       "      <td>0</td>\n",
       "      <td>2</td>\n",
       "      <td>1</td>\n",
       "      <td>1</td>\n",
       "      <td>1</td>\n",
       "      <td>1</td>\n",
       "      <td>1</td>\n",
       "      <td>1</td>\n",
       "      <td>2</td>\n",
       "      <td>0</td>\n",
       "      <td>3</td>\n",
       "      <td>19.90</td>\n",
       "      <td>659</td>\n",
       "      <td>0</td>\n",
       "    </tr>\n",
       "    <tr>\n",
       "      <th>2794</th>\n",
       "      <td>0</td>\n",
       "      <td>0</td>\n",
       "      <td>0</td>\n",
       "      <td>0</td>\n",
       "      <td>65</td>\n",
       "      <td>0</td>\n",
       "      <td>1</td>\n",
       "      <td>0</td>\n",
       "      <td>2</td>\n",
       "      <td>0</td>\n",
       "      <td>2</td>\n",
       "      <td>2</td>\n",
       "      <td>2</td>\n",
       "      <td>2</td>\n",
       "      <td>2</td>\n",
       "      <td>0</td>\n",
       "      <td>1</td>\n",
       "      <td>59.95</td>\n",
       "      <td>3357</td>\n",
       "      <td>0</td>\n",
       "    </tr>\n",
       "  </tbody>\n",
       "</table>\n",
       "</div>"
      ],
      "text/plain": [
       "      gender  SeniorCitizen  Partner  Dependents  tenure  PhoneService  \\\n",
       "2273       1              0        1           1      36             0   \n",
       "2802       0              0        1           1      24             1   \n",
       "2471       0              0        0           0      42             1   \n",
       "3388       1              0        1           0      69             1   \n",
       "2794       0              0        0           0      65             0   \n",
       "\n",
       "      MultipleLines  InternetService  OnlineSecurity  OnlineBackup  \\\n",
       "2273              1                0               2             0   \n",
       "2802              0                2               1             1   \n",
       "2471              2                1               2             0   \n",
       "3388              0                2               1             1   \n",
       "2794              1                0               2             0   \n",
       "\n",
       "      DeviceProtection  TechSupport  StreamingTV  StreamingMovies  Contract  \\\n",
       "2273                 2            2            2                2         1   \n",
       "2802                 1            1            1                1         1   \n",
       "2471                 2            0            2                2         0   \n",
       "3388                 1            1            1                1         2   \n",
       "2794                 2            2            2                2         2   \n",
       "\n",
       "      PaperlessBilling  PaymentMethod  MonthlyCharges  TotalCharges  Churn  \n",
       "2273                 0              1           60.70          1868      0  \n",
       "2802                 0              3           19.90          4455      0  \n",
       "2471                 1              2          105.20          3752      1  \n",
       "3388                 0              3           19.90           659      0  \n",
       "2794                 0              1           59.95          3357      0  "
      ]
     },
     "execution_count": 56,
     "metadata": {},
     "output_type": "execute_result"
    }
   ],
   "source": [
    "test.head()"
   ]
  },
  {
   "cell_type": "markdown",
   "id": "6ba7fd3f",
   "metadata": {},
   "source": [
    "Using Decision Tree : "
   ]
  },
  {
   "cell_type": "code",
   "execution_count": 57,
   "id": "be8a0952",
   "metadata": {},
   "outputs": [],
   "source": [
    "from sklearn.tree import DecisionTreeClassifier\n",
    "dt = DecisionTreeClassifier()"
   ]
  },
  {
   "cell_type": "code",
   "execution_count": 58,
   "id": "fc68372e",
   "metadata": {},
   "outputs": [
    {
     "data": {
      "text/html": [
       "<style>#sk-container-id-1 {color: black;background-color: white;}#sk-container-id-1 pre{padding: 0;}#sk-container-id-1 div.sk-toggleable {background-color: white;}#sk-container-id-1 label.sk-toggleable__label {cursor: pointer;display: block;width: 100%;margin-bottom: 0;padding: 0.3em;box-sizing: border-box;text-align: center;}#sk-container-id-1 label.sk-toggleable__label-arrow:before {content: \"▸\";float: left;margin-right: 0.25em;color: #696969;}#sk-container-id-1 label.sk-toggleable__label-arrow:hover:before {color: black;}#sk-container-id-1 div.sk-estimator:hover label.sk-toggleable__label-arrow:before {color: black;}#sk-container-id-1 div.sk-toggleable__content {max-height: 0;max-width: 0;overflow: hidden;text-align: left;background-color: #f0f8ff;}#sk-container-id-1 div.sk-toggleable__content pre {margin: 0.2em;color: black;border-radius: 0.25em;background-color: #f0f8ff;}#sk-container-id-1 input.sk-toggleable__control:checked~div.sk-toggleable__content {max-height: 200px;max-width: 100%;overflow: auto;}#sk-container-id-1 input.sk-toggleable__control:checked~label.sk-toggleable__label-arrow:before {content: \"▾\";}#sk-container-id-1 div.sk-estimator input.sk-toggleable__control:checked~label.sk-toggleable__label {background-color: #d4ebff;}#sk-container-id-1 div.sk-label input.sk-toggleable__control:checked~label.sk-toggleable__label {background-color: #d4ebff;}#sk-container-id-1 input.sk-hidden--visually {border: 0;clip: rect(1px 1px 1px 1px);clip: rect(1px, 1px, 1px, 1px);height: 1px;margin: -1px;overflow: hidden;padding: 0;position: absolute;width: 1px;}#sk-container-id-1 div.sk-estimator {font-family: monospace;background-color: #f0f8ff;border: 1px dotted black;border-radius: 0.25em;box-sizing: border-box;margin-bottom: 0.5em;}#sk-container-id-1 div.sk-estimator:hover {background-color: #d4ebff;}#sk-container-id-1 div.sk-parallel-item::after {content: \"\";width: 100%;border-bottom: 1px solid gray;flex-grow: 1;}#sk-container-id-1 div.sk-label:hover label.sk-toggleable__label {background-color: #d4ebff;}#sk-container-id-1 div.sk-serial::before {content: \"\";position: absolute;border-left: 1px solid gray;box-sizing: border-box;top: 0;bottom: 0;left: 50%;z-index: 0;}#sk-container-id-1 div.sk-serial {display: flex;flex-direction: column;align-items: center;background-color: white;padding-right: 0.2em;padding-left: 0.2em;position: relative;}#sk-container-id-1 div.sk-item {position: relative;z-index: 1;}#sk-container-id-1 div.sk-parallel {display: flex;align-items: stretch;justify-content: center;background-color: white;position: relative;}#sk-container-id-1 div.sk-item::before, #sk-container-id-1 div.sk-parallel-item::before {content: \"\";position: absolute;border-left: 1px solid gray;box-sizing: border-box;top: 0;bottom: 0;left: 50%;z-index: -1;}#sk-container-id-1 div.sk-parallel-item {display: flex;flex-direction: column;z-index: 1;position: relative;background-color: white;}#sk-container-id-1 div.sk-parallel-item:first-child::after {align-self: flex-end;width: 50%;}#sk-container-id-1 div.sk-parallel-item:last-child::after {align-self: flex-start;width: 50%;}#sk-container-id-1 div.sk-parallel-item:only-child::after {width: 0;}#sk-container-id-1 div.sk-dashed-wrapped {border: 1px dashed gray;margin: 0 0.4em 0.5em 0.4em;box-sizing: border-box;padding-bottom: 0.4em;background-color: white;}#sk-container-id-1 div.sk-label label {font-family: monospace;font-weight: bold;display: inline-block;line-height: 1.2em;}#sk-container-id-1 div.sk-label-container {text-align: center;}#sk-container-id-1 div.sk-container {/* jupyter's `normalize.less` sets `[hidden] { display: none; }` but bootstrap.min.css set `[hidden] { display: none !important; }` so we also need the `!important` here to be able to override the default hidden behavior on the sphinx rendered scikit-learn.org. See: https://github.com/scikit-learn/scikit-learn/issues/21755 */display: inline-block !important;position: relative;}#sk-container-id-1 div.sk-text-repr-fallback {display: none;}</style><div id=\"sk-container-id-1\" class=\"sk-top-container\"><div class=\"sk-text-repr-fallback\"><pre>DecisionTreeClassifier()</pre><b>In a Jupyter environment, please rerun this cell to show the HTML representation or trust the notebook. <br />On GitHub, the HTML representation is unable to render, please try loading this page with nbviewer.org.</b></div><div class=\"sk-container\" hidden><div class=\"sk-item\"><div class=\"sk-estimator sk-toggleable\"><input class=\"sk-toggleable__control sk-hidden--visually\" id=\"sk-estimator-id-1\" type=\"checkbox\" checked><label for=\"sk-estimator-id-1\" class=\"sk-toggleable__label sk-toggleable__label-arrow\">DecisionTreeClassifier</label><div class=\"sk-toggleable__content\"><pre>DecisionTreeClassifier()</pre></div></div></div></div></div>"
      ],
      "text/plain": [
       "DecisionTreeClassifier()"
      ]
     },
     "execution_count": 58,
     "metadata": {},
     "output_type": "execute_result"
    }
   ],
   "source": [
    "dt.fit(xtrain,ytrain)"
   ]
  },
  {
   "cell_type": "code",
   "execution_count": 59,
   "id": "44631320",
   "metadata": {},
   "outputs": [
    {
     "name": "stdout",
     "output_type": "stream",
     "text": [
      "HOCV Accuracy With Sampling DT : 0.8535457348406988\n"
     ]
    }
   ],
   "source": [
    "Accuracy1 = dt.score(xtest,ytest)\n",
    "print(\"HOCV Accuracy With Sampling DT :\", Accuracy1)"
   ]
  },
  {
   "cell_type": "markdown",
   "id": "9dcf20ca",
   "metadata": {},
   "source": [
    "Using KNN Classification :"
   ]
  },
  {
   "cell_type": "code",
   "execution_count": 60,
   "id": "d41909be",
   "metadata": {},
   "outputs": [],
   "source": [
    "from sklearn.neighbors import KNeighborsClassifier\n",
    "ne = KNeighborsClassifier()"
   ]
  },
  {
   "cell_type": "code",
   "execution_count": 61,
   "id": "1e1a92a5",
   "metadata": {},
   "outputs": [
    {
     "data": {
      "text/html": [
       "<style>#sk-container-id-2 {color: black;background-color: white;}#sk-container-id-2 pre{padding: 0;}#sk-container-id-2 div.sk-toggleable {background-color: white;}#sk-container-id-2 label.sk-toggleable__label {cursor: pointer;display: block;width: 100%;margin-bottom: 0;padding: 0.3em;box-sizing: border-box;text-align: center;}#sk-container-id-2 label.sk-toggleable__label-arrow:before {content: \"▸\";float: left;margin-right: 0.25em;color: #696969;}#sk-container-id-2 label.sk-toggleable__label-arrow:hover:before {color: black;}#sk-container-id-2 div.sk-estimator:hover label.sk-toggleable__label-arrow:before {color: black;}#sk-container-id-2 div.sk-toggleable__content {max-height: 0;max-width: 0;overflow: hidden;text-align: left;background-color: #f0f8ff;}#sk-container-id-2 div.sk-toggleable__content pre {margin: 0.2em;color: black;border-radius: 0.25em;background-color: #f0f8ff;}#sk-container-id-2 input.sk-toggleable__control:checked~div.sk-toggleable__content {max-height: 200px;max-width: 100%;overflow: auto;}#sk-container-id-2 input.sk-toggleable__control:checked~label.sk-toggleable__label-arrow:before {content: \"▾\";}#sk-container-id-2 div.sk-estimator input.sk-toggleable__control:checked~label.sk-toggleable__label {background-color: #d4ebff;}#sk-container-id-2 div.sk-label input.sk-toggleable__control:checked~label.sk-toggleable__label {background-color: #d4ebff;}#sk-container-id-2 input.sk-hidden--visually {border: 0;clip: rect(1px 1px 1px 1px);clip: rect(1px, 1px, 1px, 1px);height: 1px;margin: -1px;overflow: hidden;padding: 0;position: absolute;width: 1px;}#sk-container-id-2 div.sk-estimator {font-family: monospace;background-color: #f0f8ff;border: 1px dotted black;border-radius: 0.25em;box-sizing: border-box;margin-bottom: 0.5em;}#sk-container-id-2 div.sk-estimator:hover {background-color: #d4ebff;}#sk-container-id-2 div.sk-parallel-item::after {content: \"\";width: 100%;border-bottom: 1px solid gray;flex-grow: 1;}#sk-container-id-2 div.sk-label:hover label.sk-toggleable__label {background-color: #d4ebff;}#sk-container-id-2 div.sk-serial::before {content: \"\";position: absolute;border-left: 1px solid gray;box-sizing: border-box;top: 0;bottom: 0;left: 50%;z-index: 0;}#sk-container-id-2 div.sk-serial {display: flex;flex-direction: column;align-items: center;background-color: white;padding-right: 0.2em;padding-left: 0.2em;position: relative;}#sk-container-id-2 div.sk-item {position: relative;z-index: 1;}#sk-container-id-2 div.sk-parallel {display: flex;align-items: stretch;justify-content: center;background-color: white;position: relative;}#sk-container-id-2 div.sk-item::before, #sk-container-id-2 div.sk-parallel-item::before {content: \"\";position: absolute;border-left: 1px solid gray;box-sizing: border-box;top: 0;bottom: 0;left: 50%;z-index: -1;}#sk-container-id-2 div.sk-parallel-item {display: flex;flex-direction: column;z-index: 1;position: relative;background-color: white;}#sk-container-id-2 div.sk-parallel-item:first-child::after {align-self: flex-end;width: 50%;}#sk-container-id-2 div.sk-parallel-item:last-child::after {align-self: flex-start;width: 50%;}#sk-container-id-2 div.sk-parallel-item:only-child::after {width: 0;}#sk-container-id-2 div.sk-dashed-wrapped {border: 1px dashed gray;margin: 0 0.4em 0.5em 0.4em;box-sizing: border-box;padding-bottom: 0.4em;background-color: white;}#sk-container-id-2 div.sk-label label {font-family: monospace;font-weight: bold;display: inline-block;line-height: 1.2em;}#sk-container-id-2 div.sk-label-container {text-align: center;}#sk-container-id-2 div.sk-container {/* jupyter's `normalize.less` sets `[hidden] { display: none; }` but bootstrap.min.css set `[hidden] { display: none !important; }` so we also need the `!important` here to be able to override the default hidden behavior on the sphinx rendered scikit-learn.org. See: https://github.com/scikit-learn/scikit-learn/issues/21755 */display: inline-block !important;position: relative;}#sk-container-id-2 div.sk-text-repr-fallback {display: none;}</style><div id=\"sk-container-id-2\" class=\"sk-top-container\"><div class=\"sk-text-repr-fallback\"><pre>KNeighborsClassifier()</pre><b>In a Jupyter environment, please rerun this cell to show the HTML representation or trust the notebook. <br />On GitHub, the HTML representation is unable to render, please try loading this page with nbviewer.org.</b></div><div class=\"sk-container\" hidden><div class=\"sk-item\"><div class=\"sk-estimator sk-toggleable\"><input class=\"sk-toggleable__control sk-hidden--visually\" id=\"sk-estimator-id-2\" type=\"checkbox\" checked><label for=\"sk-estimator-id-2\" class=\"sk-toggleable__label sk-toggleable__label-arrow\">KNeighborsClassifier</label><div class=\"sk-toggleable__content\"><pre>KNeighborsClassifier()</pre></div></div></div></div></div>"
      ],
      "text/plain": [
       "KNeighborsClassifier()"
      ]
     },
     "execution_count": 61,
     "metadata": {},
     "output_type": "execute_result"
    }
   ],
   "source": [
    "ne.fit(xtrain,ytrain)"
   ]
  },
  {
   "cell_type": "code",
   "execution_count": 62,
   "id": "5e7dd788",
   "metadata": {},
   "outputs": [
    {
     "name": "stdout",
     "output_type": "stream",
     "text": [
      "HOCV Accuracy With Sampling KNN : 0.7322713257965057\n"
     ]
    }
   ],
   "source": [
    "Accuracy2 = ne.score(xtest,ytest)\n",
    "print(\"HOCV Accuracy With Sampling KNN :\", Accuracy2)"
   ]
  },
  {
   "cell_type": "markdown",
   "id": "5fcf5811",
   "metadata": {},
   "source": [
    "# Accuracy Without Sampling"
   ]
  },
  {
   "cell_type": "code",
   "execution_count": 63,
   "id": "7999bd40",
   "metadata": {},
   "outputs": [
    {
     "data": {
      "text/plain": [
       "(5282, 19)"
      ]
     },
     "execution_count": 63,
     "metadata": {},
     "output_type": "execute_result"
    }
   ],
   "source": [
    "x.shape"
   ]
  },
  {
   "cell_type": "code",
   "execution_count": 64,
   "id": "d076633f",
   "metadata": {},
   "outputs": [],
   "source": [
    "xtrain1,xtest1,ytrain1,ytest1 = tts(x,y,test_size=.3,random_state=42)"
   ]
  },
  {
   "cell_type": "markdown",
   "id": "1f1904d3",
   "metadata": {},
   "source": [
    "Using Decision Tree : "
   ]
  },
  {
   "cell_type": "code",
   "execution_count": 65,
   "id": "a4ac6971",
   "metadata": {},
   "outputs": [
    {
     "data": {
      "text/html": [
       "<style>#sk-container-id-3 {color: black;background-color: white;}#sk-container-id-3 pre{padding: 0;}#sk-container-id-3 div.sk-toggleable {background-color: white;}#sk-container-id-3 label.sk-toggleable__label {cursor: pointer;display: block;width: 100%;margin-bottom: 0;padding: 0.3em;box-sizing: border-box;text-align: center;}#sk-container-id-3 label.sk-toggleable__label-arrow:before {content: \"▸\";float: left;margin-right: 0.25em;color: #696969;}#sk-container-id-3 label.sk-toggleable__label-arrow:hover:before {color: black;}#sk-container-id-3 div.sk-estimator:hover label.sk-toggleable__label-arrow:before {color: black;}#sk-container-id-3 div.sk-toggleable__content {max-height: 0;max-width: 0;overflow: hidden;text-align: left;background-color: #f0f8ff;}#sk-container-id-3 div.sk-toggleable__content pre {margin: 0.2em;color: black;border-radius: 0.25em;background-color: #f0f8ff;}#sk-container-id-3 input.sk-toggleable__control:checked~div.sk-toggleable__content {max-height: 200px;max-width: 100%;overflow: auto;}#sk-container-id-3 input.sk-toggleable__control:checked~label.sk-toggleable__label-arrow:before {content: \"▾\";}#sk-container-id-3 div.sk-estimator input.sk-toggleable__control:checked~label.sk-toggleable__label {background-color: #d4ebff;}#sk-container-id-3 div.sk-label input.sk-toggleable__control:checked~label.sk-toggleable__label {background-color: #d4ebff;}#sk-container-id-3 input.sk-hidden--visually {border: 0;clip: rect(1px 1px 1px 1px);clip: rect(1px, 1px, 1px, 1px);height: 1px;margin: -1px;overflow: hidden;padding: 0;position: absolute;width: 1px;}#sk-container-id-3 div.sk-estimator {font-family: monospace;background-color: #f0f8ff;border: 1px dotted black;border-radius: 0.25em;box-sizing: border-box;margin-bottom: 0.5em;}#sk-container-id-3 div.sk-estimator:hover {background-color: #d4ebff;}#sk-container-id-3 div.sk-parallel-item::after {content: \"\";width: 100%;border-bottom: 1px solid gray;flex-grow: 1;}#sk-container-id-3 div.sk-label:hover label.sk-toggleable__label {background-color: #d4ebff;}#sk-container-id-3 div.sk-serial::before {content: \"\";position: absolute;border-left: 1px solid gray;box-sizing: border-box;top: 0;bottom: 0;left: 50%;z-index: 0;}#sk-container-id-3 div.sk-serial {display: flex;flex-direction: column;align-items: center;background-color: white;padding-right: 0.2em;padding-left: 0.2em;position: relative;}#sk-container-id-3 div.sk-item {position: relative;z-index: 1;}#sk-container-id-3 div.sk-parallel {display: flex;align-items: stretch;justify-content: center;background-color: white;position: relative;}#sk-container-id-3 div.sk-item::before, #sk-container-id-3 div.sk-parallel-item::before {content: \"\";position: absolute;border-left: 1px solid gray;box-sizing: border-box;top: 0;bottom: 0;left: 50%;z-index: -1;}#sk-container-id-3 div.sk-parallel-item {display: flex;flex-direction: column;z-index: 1;position: relative;background-color: white;}#sk-container-id-3 div.sk-parallel-item:first-child::after {align-self: flex-end;width: 50%;}#sk-container-id-3 div.sk-parallel-item:last-child::after {align-self: flex-start;width: 50%;}#sk-container-id-3 div.sk-parallel-item:only-child::after {width: 0;}#sk-container-id-3 div.sk-dashed-wrapped {border: 1px dashed gray;margin: 0 0.4em 0.5em 0.4em;box-sizing: border-box;padding-bottom: 0.4em;background-color: white;}#sk-container-id-3 div.sk-label label {font-family: monospace;font-weight: bold;display: inline-block;line-height: 1.2em;}#sk-container-id-3 div.sk-label-container {text-align: center;}#sk-container-id-3 div.sk-container {/* jupyter's `normalize.less` sets `[hidden] { display: none; }` but bootstrap.min.css set `[hidden] { display: none !important; }` so we also need the `!important` here to be able to override the default hidden behavior on the sphinx rendered scikit-learn.org. See: https://github.com/scikit-learn/scikit-learn/issues/21755 */display: inline-block !important;position: relative;}#sk-container-id-3 div.sk-text-repr-fallback {display: none;}</style><div id=\"sk-container-id-3\" class=\"sk-top-container\"><div class=\"sk-text-repr-fallback\"><pre>DecisionTreeClassifier()</pre><b>In a Jupyter environment, please rerun this cell to show the HTML representation or trust the notebook. <br />On GitHub, the HTML representation is unable to render, please try loading this page with nbviewer.org.</b></div><div class=\"sk-container\" hidden><div class=\"sk-item\"><div class=\"sk-estimator sk-toggleable\"><input class=\"sk-toggleable__control sk-hidden--visually\" id=\"sk-estimator-id-3\" type=\"checkbox\" checked><label for=\"sk-estimator-id-3\" class=\"sk-toggleable__label sk-toggleable__label-arrow\">DecisionTreeClassifier</label><div class=\"sk-toggleable__content\"><pre>DecisionTreeClassifier()</pre></div></div></div></div></div>"
      ],
      "text/plain": [
       "DecisionTreeClassifier()"
      ]
     },
     "execution_count": 65,
     "metadata": {},
     "output_type": "execute_result"
    }
   ],
   "source": [
    "dt.fit(xtrain1,ytrain1)"
   ]
  },
  {
   "cell_type": "code",
   "execution_count": 66,
   "id": "30c908e2",
   "metadata": {},
   "outputs": [
    {
     "name": "stdout",
     "output_type": "stream",
     "text": [
      "Accuracy Without Sampling DT : 0.7022082018927445\n"
     ]
    }
   ],
   "source": [
    "Accuracy3 = dt.score(xtest1,ytest1)\n",
    "print(\"Accuracy Without Sampling DT :\", Accuracy3)"
   ]
  },
  {
   "cell_type": "markdown",
   "id": "5be142fa",
   "metadata": {},
   "source": [
    "Using KNN Classification :"
   ]
  },
  {
   "cell_type": "code",
   "execution_count": 67,
   "id": "df8dcd55",
   "metadata": {},
   "outputs": [
    {
     "data": {
      "text/html": [
       "<style>#sk-container-id-4 {color: black;background-color: white;}#sk-container-id-4 pre{padding: 0;}#sk-container-id-4 div.sk-toggleable {background-color: white;}#sk-container-id-4 label.sk-toggleable__label {cursor: pointer;display: block;width: 100%;margin-bottom: 0;padding: 0.3em;box-sizing: border-box;text-align: center;}#sk-container-id-4 label.sk-toggleable__label-arrow:before {content: \"▸\";float: left;margin-right: 0.25em;color: #696969;}#sk-container-id-4 label.sk-toggleable__label-arrow:hover:before {color: black;}#sk-container-id-4 div.sk-estimator:hover label.sk-toggleable__label-arrow:before {color: black;}#sk-container-id-4 div.sk-toggleable__content {max-height: 0;max-width: 0;overflow: hidden;text-align: left;background-color: #f0f8ff;}#sk-container-id-4 div.sk-toggleable__content pre {margin: 0.2em;color: black;border-radius: 0.25em;background-color: #f0f8ff;}#sk-container-id-4 input.sk-toggleable__control:checked~div.sk-toggleable__content {max-height: 200px;max-width: 100%;overflow: auto;}#sk-container-id-4 input.sk-toggleable__control:checked~label.sk-toggleable__label-arrow:before {content: \"▾\";}#sk-container-id-4 div.sk-estimator input.sk-toggleable__control:checked~label.sk-toggleable__label {background-color: #d4ebff;}#sk-container-id-4 div.sk-label input.sk-toggleable__control:checked~label.sk-toggleable__label {background-color: #d4ebff;}#sk-container-id-4 input.sk-hidden--visually {border: 0;clip: rect(1px 1px 1px 1px);clip: rect(1px, 1px, 1px, 1px);height: 1px;margin: -1px;overflow: hidden;padding: 0;position: absolute;width: 1px;}#sk-container-id-4 div.sk-estimator {font-family: monospace;background-color: #f0f8ff;border: 1px dotted black;border-radius: 0.25em;box-sizing: border-box;margin-bottom: 0.5em;}#sk-container-id-4 div.sk-estimator:hover {background-color: #d4ebff;}#sk-container-id-4 div.sk-parallel-item::after {content: \"\";width: 100%;border-bottom: 1px solid gray;flex-grow: 1;}#sk-container-id-4 div.sk-label:hover label.sk-toggleable__label {background-color: #d4ebff;}#sk-container-id-4 div.sk-serial::before {content: \"\";position: absolute;border-left: 1px solid gray;box-sizing: border-box;top: 0;bottom: 0;left: 50%;z-index: 0;}#sk-container-id-4 div.sk-serial {display: flex;flex-direction: column;align-items: center;background-color: white;padding-right: 0.2em;padding-left: 0.2em;position: relative;}#sk-container-id-4 div.sk-item {position: relative;z-index: 1;}#sk-container-id-4 div.sk-parallel {display: flex;align-items: stretch;justify-content: center;background-color: white;position: relative;}#sk-container-id-4 div.sk-item::before, #sk-container-id-4 div.sk-parallel-item::before {content: \"\";position: absolute;border-left: 1px solid gray;box-sizing: border-box;top: 0;bottom: 0;left: 50%;z-index: -1;}#sk-container-id-4 div.sk-parallel-item {display: flex;flex-direction: column;z-index: 1;position: relative;background-color: white;}#sk-container-id-4 div.sk-parallel-item:first-child::after {align-self: flex-end;width: 50%;}#sk-container-id-4 div.sk-parallel-item:last-child::after {align-self: flex-start;width: 50%;}#sk-container-id-4 div.sk-parallel-item:only-child::after {width: 0;}#sk-container-id-4 div.sk-dashed-wrapped {border: 1px dashed gray;margin: 0 0.4em 0.5em 0.4em;box-sizing: border-box;padding-bottom: 0.4em;background-color: white;}#sk-container-id-4 div.sk-label label {font-family: monospace;font-weight: bold;display: inline-block;line-height: 1.2em;}#sk-container-id-4 div.sk-label-container {text-align: center;}#sk-container-id-4 div.sk-container {/* jupyter's `normalize.less` sets `[hidden] { display: none; }` but bootstrap.min.css set `[hidden] { display: none !important; }` so we also need the `!important` here to be able to override the default hidden behavior on the sphinx rendered scikit-learn.org. See: https://github.com/scikit-learn/scikit-learn/issues/21755 */display: inline-block !important;position: relative;}#sk-container-id-4 div.sk-text-repr-fallback {display: none;}</style><div id=\"sk-container-id-4\" class=\"sk-top-container\"><div class=\"sk-text-repr-fallback\"><pre>KNeighborsClassifier()</pre><b>In a Jupyter environment, please rerun this cell to show the HTML representation or trust the notebook. <br />On GitHub, the HTML representation is unable to render, please try loading this page with nbviewer.org.</b></div><div class=\"sk-container\" hidden><div class=\"sk-item\"><div class=\"sk-estimator sk-toggleable\"><input class=\"sk-toggleable__control sk-hidden--visually\" id=\"sk-estimator-id-4\" type=\"checkbox\" checked><label for=\"sk-estimator-id-4\" class=\"sk-toggleable__label sk-toggleable__label-arrow\">KNeighborsClassifier</label><div class=\"sk-toggleable__content\"><pre>KNeighborsClassifier()</pre></div></div></div></div></div>"
      ],
      "text/plain": [
       "KNeighborsClassifier()"
      ]
     },
     "execution_count": 67,
     "metadata": {},
     "output_type": "execute_result"
    }
   ],
   "source": [
    "ne.fit(xtrain1,ytrain1)"
   ]
  },
  {
   "cell_type": "code",
   "execution_count": 68,
   "id": "4e4ecdec",
   "metadata": {},
   "outputs": [
    {
     "name": "stdout",
     "output_type": "stream",
     "text": [
      "Accuracy Without Sampling KNN : 0.7495268138801262\n"
     ]
    }
   ],
   "source": [
    "Accuracy4 = ne.score(xtest1,ytest1)\n",
    "print(\"Accuracy Without Sampling KNN :\", Accuracy4)"
   ]
  },
  {
   "cell_type": "markdown",
   "id": "568b508b",
   "metadata": {},
   "source": [
    "# K-Fold Cross Validation"
   ]
  },
  {
   "cell_type": "code",
   "execution_count": 69,
   "id": "4e42d933",
   "metadata": {},
   "outputs": [],
   "source": [
    "from sklearn.model_selection import KFold, cross_val_score, cross_validate"
   ]
  },
  {
   "cell_type": "code",
   "execution_count": 70,
   "id": "3f56f0d6",
   "metadata": {},
   "outputs": [],
   "source": [
    "kfold = KFold(n_splits=4)"
   ]
  },
  {
   "cell_type": "markdown",
   "id": "b5bbee7e",
   "metadata": {},
   "source": [
    "Using Decision Tree :"
   ]
  },
  {
   "cell_type": "code",
   "execution_count": 71,
   "id": "393ece77",
   "metadata": {},
   "outputs": [
    {
     "name": "stdout",
     "output_type": "stream",
     "text": [
      "KFCV Accuracy With Sampling DT : [0.7975334  0.81346351 0.8622816  0.99743063]\n"
     ]
    }
   ],
   "source": [
    "Accuracy5 = cross_val_score(dt,x_new,y_new,cv=kfold)\n",
    "print(\"KFCV Accuracy With Sampling DT :\", Accuracy5)"
   ]
  },
  {
   "cell_type": "code",
   "execution_count": 72,
   "id": "2f0acb42",
   "metadata": {},
   "outputs": [
    {
     "data": {
      "text/plain": [
       "0.8676772867420349"
      ]
     },
     "execution_count": 72,
     "metadata": {},
     "output_type": "execute_result"
    }
   ],
   "source": [
    "Accuracy5.mean()"
   ]
  },
  {
   "cell_type": "code",
   "execution_count": 73,
   "id": "3f7fd03c",
   "metadata": {},
   "outputs": [
    {
     "data": {
      "text/plain": [
       "0.9974306269270298"
      ]
     },
     "execution_count": 73,
     "metadata": {},
     "output_type": "execute_result"
    }
   ],
   "source": [
    "Accuracy5.max()"
   ]
  },
  {
   "cell_type": "code",
   "execution_count": 74,
   "id": "41b8603b",
   "metadata": {},
   "outputs": [
    {
     "data": {
      "text/plain": [
       "0.7975334018499486"
      ]
     },
     "execution_count": 74,
     "metadata": {},
     "output_type": "execute_result"
    }
   ],
   "source": [
    "Accuracy5.min()"
   ]
  },
  {
   "cell_type": "markdown",
   "id": "3fcd585a",
   "metadata": {},
   "source": [
    "Using KNN Classification :"
   ]
  },
  {
   "cell_type": "code",
   "execution_count": 75,
   "id": "779b2fde",
   "metadata": {},
   "outputs": [
    {
     "name": "stdout",
     "output_type": "stream",
     "text": [
      "KFCV Accuracy With Sampling KNN : [0.65724563 0.67163412 0.72045221 0.66855087]\n"
     ]
    }
   ],
   "source": [
    "Accuracy6 = cross_val_score(ne,x_new,y_new,cv=kfold)\n",
    "print(\"KFCV Accuracy With Sampling KNN :\", Accuracy6)"
   ]
  },
  {
   "cell_type": "code",
   "execution_count": 76,
   "id": "75c21cfc",
   "metadata": {},
   "outputs": [
    {
     "data": {
      "text/plain": [
       "0.6794707091469682"
      ]
     },
     "execution_count": 76,
     "metadata": {},
     "output_type": "execute_result"
    }
   ],
   "source": [
    "Accuracy6.mean()"
   ]
  },
  {
   "cell_type": "code",
   "execution_count": 77,
   "id": "07ef4194",
   "metadata": {},
   "outputs": [
    {
     "data": {
      "text/plain": [
       "0.7204522096608428"
      ]
     },
     "execution_count": 77,
     "metadata": {},
     "output_type": "execute_result"
    }
   ],
   "source": [
    "Accuracy6.max()"
   ]
  },
  {
   "cell_type": "code",
   "execution_count": 78,
   "id": "3cfa3ed2",
   "metadata": {},
   "outputs": [
    {
     "data": {
      "text/plain": [
       "0.6572456320657759"
      ]
     },
     "execution_count": 78,
     "metadata": {},
     "output_type": "execute_result"
    }
   ],
   "source": [
    "Accuracy6.min()"
   ]
  },
  {
   "cell_type": "markdown",
   "id": "d0dfcb9c",
   "metadata": {},
   "source": [
    "# Stratified K-Fold Cross Validation"
   ]
  },
  {
   "cell_type": "code",
   "execution_count": 79,
   "id": "0f805130",
   "metadata": {},
   "outputs": [],
   "source": [
    "from sklearn.model_selection import StratifiedKFold"
   ]
  },
  {
   "cell_type": "code",
   "execution_count": 80,
   "id": "d703a058",
   "metadata": {},
   "outputs": [],
   "source": [
    "st = StratifiedKFold(n_splits=4)"
   ]
  },
  {
   "cell_type": "markdown",
   "id": "21331869",
   "metadata": {},
   "source": [
    "Using Decision Tree :"
   ]
  },
  {
   "cell_type": "code",
   "execution_count": 81,
   "id": "ebfbba60",
   "metadata": {},
   "outputs": [
    {
     "name": "stdout",
     "output_type": "stream",
     "text": [
      "SKFCV Accuracy With Sampling DT : [0.85971223 0.86125385 0.89516958 0.88591984]\n"
     ]
    }
   ],
   "source": [
    "Accuracy7 = cross_val_score(dt,x_new,y_new,cv=st)\n",
    "print(\"SKFCV Accuracy With Sampling DT :\", Accuracy7)"
   ]
  },
  {
   "cell_type": "code",
   "execution_count": 82,
   "id": "bcfd083c",
   "metadata": {},
   "outputs": [
    {
     "data": {
      "text/plain": [
       "0.875513874614594"
      ]
     },
     "execution_count": 82,
     "metadata": {},
     "output_type": "execute_result"
    }
   ],
   "source": [
    "Accuracy7.mean()"
   ]
  },
  {
   "cell_type": "code",
   "execution_count": 83,
   "id": "1b7e1cbd",
   "metadata": {},
   "outputs": [
    {
     "data": {
      "text/plain": [
       "0.895169578622816"
      ]
     },
     "execution_count": 83,
     "metadata": {},
     "output_type": "execute_result"
    }
   ],
   "source": [
    "Accuracy7.max()"
   ]
  },
  {
   "cell_type": "code",
   "execution_count": 84,
   "id": "7f74a469",
   "metadata": {},
   "outputs": [
    {
     "data": {
      "text/plain": [
       "0.8597122302158273"
      ]
     },
     "execution_count": 84,
     "metadata": {},
     "output_type": "execute_result"
    }
   ],
   "source": [
    "Accuracy7.min()"
   ]
  },
  {
   "cell_type": "markdown",
   "id": "d1558463",
   "metadata": {},
   "source": [
    "Using KNN Classification :"
   ]
  },
  {
   "cell_type": "code",
   "execution_count": 85,
   "id": "4eccec1a",
   "metadata": {},
   "outputs": [
    {
     "name": "stdout",
     "output_type": "stream",
     "text": [
      "SKFCV Accuracy With Sampling KNN : [0.73175745 0.70966084 0.7672148  0.74974306]\n"
     ]
    }
   ],
   "source": [
    "Accuracy8 = cross_val_score(ne,x_new,y_new,cv=st)\n",
    "print(\"SKFCV Accuracy With Sampling KNN :\", Accuracy8)"
   ]
  },
  {
   "cell_type": "code",
   "execution_count": 86,
   "id": "97e8c89c",
   "metadata": {},
   "outputs": [
    {
     "data": {
      "text/plain": [
       "0.7395940390544706"
      ]
     },
     "execution_count": 86,
     "metadata": {},
     "output_type": "execute_result"
    }
   ],
   "source": [
    "Accuracy8.mean()"
   ]
  },
  {
   "cell_type": "code",
   "execution_count": 87,
   "id": "bd335863",
   "metadata": {},
   "outputs": [
    {
     "data": {
      "text/plain": [
       "0.7672147995889003"
      ]
     },
     "execution_count": 87,
     "metadata": {},
     "output_type": "execute_result"
    }
   ],
   "source": [
    "Accuracy8.max()"
   ]
  },
  {
   "cell_type": "code",
   "execution_count": 88,
   "id": "5f3cb2f5",
   "metadata": {},
   "outputs": [
    {
     "data": {
      "text/plain": [
       "0.7096608427543679"
      ]
     },
     "execution_count": 88,
     "metadata": {},
     "output_type": "execute_result"
    }
   ],
   "source": [
    "Accuracy8.min()"
   ]
  },
  {
   "cell_type": "markdown",
   "id": "cf00db80",
   "metadata": {},
   "source": [
    "# Leave One Out Cross Validation"
   ]
  },
  {
   "cell_type": "code",
   "execution_count": 89,
   "id": "c2995374",
   "metadata": {},
   "outputs": [],
   "source": [
    "from sklearn.model_selection import LeaveOneOut"
   ]
  },
  {
   "cell_type": "code",
   "execution_count": 90,
   "id": "7b2beeb8",
   "metadata": {},
   "outputs": [],
   "source": [
    "le = LeaveOneOut()"
   ]
  },
  {
   "cell_type": "markdown",
   "id": "8565e199",
   "metadata": {},
   "source": [
    "Using Decision Tree"
   ]
  },
  {
   "cell_type": "code",
   "execution_count": 100,
   "id": "17425edc",
   "metadata": {},
   "outputs": [
    {
     "name": "stdout",
     "output_type": "stream",
     "text": [
      "LOOCV Accuracy With Sampling DT : [1. 0. 1. ... 1. 1. 1.]\n"
     ]
    }
   ],
   "source": [
    "Accuracy9 = cross_val_score(dt,x_new,y_new,cv=le)\n",
    "print(\"LOOCV Accuracy With Sampling DT :\", Accuracy9)"
   ]
  },
  {
   "cell_type": "code",
   "execution_count": 101,
   "id": "786973b3",
   "metadata": {},
   "outputs": [
    {
     "data": {
      "text/plain": [
       "0.8960688591983555"
      ]
     },
     "execution_count": 101,
     "metadata": {},
     "output_type": "execute_result"
    }
   ],
   "source": [
    "Accuracy9.mean()"
   ]
  },
  {
   "cell_type": "code",
   "execution_count": 102,
   "id": "a1f595c7",
   "metadata": {},
   "outputs": [
    {
     "data": {
      "text/plain": [
       "1.0"
      ]
     },
     "execution_count": 102,
     "metadata": {},
     "output_type": "execute_result"
    }
   ],
   "source": [
    "Accuracy9.max()"
   ]
  },
  {
   "cell_type": "code",
   "execution_count": 103,
   "id": "1719a4f7",
   "metadata": {},
   "outputs": [
    {
     "data": {
      "text/plain": [
       "0.0"
      ]
     },
     "execution_count": 103,
     "metadata": {},
     "output_type": "execute_result"
    }
   ],
   "source": [
    "Accuracy9.min()"
   ]
  },
  {
   "cell_type": "markdown",
   "id": "917e056f",
   "metadata": {},
   "source": [
    "Using KNN Classification :"
   ]
  },
  {
   "cell_type": "code",
   "execution_count": 104,
   "id": "35915ddd",
   "metadata": {},
   "outputs": [
    {
     "name": "stdout",
     "output_type": "stream",
     "text": [
      "LOOCV Accuracy With Sampling KNN : [1. 0. 0. ... 1. 1. 1.]\n"
     ]
    }
   ],
   "source": [
    "Accuracy10 = cross_val_score(ne,x_new,y_new,cv=le)\n",
    "print(\"LOOCV Accuracy With Sampling KNN :\", Accuracy10)"
   ]
  },
  {
   "cell_type": "code",
   "execution_count": 105,
   "id": "16fb0e02",
   "metadata": {},
   "outputs": [
    {
     "data": {
      "text/plain": [
       "0.7595066803699897"
      ]
     },
     "execution_count": 105,
     "metadata": {},
     "output_type": "execute_result"
    }
   ],
   "source": [
    "Accuracy10.mean()"
   ]
  },
  {
   "cell_type": "code",
   "execution_count": 106,
   "id": "677c633d",
   "metadata": {},
   "outputs": [
    {
     "data": {
      "text/plain": [
       "1.0"
      ]
     },
     "execution_count": 106,
     "metadata": {},
     "output_type": "execute_result"
    }
   ],
   "source": [
    "Accuracy10.max()"
   ]
  },
  {
   "cell_type": "code",
   "execution_count": 107,
   "id": "f45d1cf2",
   "metadata": {},
   "outputs": [
    {
     "data": {
      "text/plain": [
       "0.0"
      ]
     },
     "execution_count": 107,
     "metadata": {},
     "output_type": "execute_result"
    }
   ],
   "source": [
    "Accuracy10.min()"
   ]
  },
  {
   "cell_type": "markdown",
   "id": "c842dbe3",
   "metadata": {},
   "source": [
    "# Compare All Accuracy"
   ]
  },
  {
   "cell_type": "code",
   "execution_count": 123,
   "id": "a56a78d1",
   "metadata": {},
   "outputs": [
    {
     "data": {
      "text/html": [
       "<div>\n",
       "<style scoped>\n",
       "    .dataframe tbody tr th:only-of-type {\n",
       "        vertical-align: middle;\n",
       "    }\n",
       "\n",
       "    .dataframe tbody tr th {\n",
       "        vertical-align: top;\n",
       "    }\n",
       "\n",
       "    .dataframe thead th {\n",
       "        text-align: right;\n",
       "    }\n",
       "</style>\n",
       "<table border=\"1\" class=\"dataframe\">\n",
       "  <thead>\n",
       "    <tr style=\"text-align: right;\">\n",
       "      <th></th>\n",
       "      <th>Method</th>\n",
       "      <th>Accuracy</th>\n",
       "    </tr>\n",
       "  </thead>\n",
       "  <tbody>\n",
       "    <tr>\n",
       "      <th>0</th>\n",
       "      <td>Accuracy Without Sampling DT</td>\n",
       "      <td>0.702208</td>\n",
       "    </tr>\n",
       "    <tr>\n",
       "      <th>1</th>\n",
       "      <td>Accuracy Without Sampling KNN</td>\n",
       "      <td>0.749527</td>\n",
       "    </tr>\n",
       "    <tr>\n",
       "      <th>2</th>\n",
       "      <td>HOCV Accuracy With Sampling DT</td>\n",
       "      <td>0.853546</td>\n",
       "    </tr>\n",
       "    <tr>\n",
       "      <th>3</th>\n",
       "      <td>HOCV Accuracy With Sampling KNN</td>\n",
       "      <td>0.732271</td>\n",
       "    </tr>\n",
       "    <tr>\n",
       "      <th>4</th>\n",
       "      <td>KFCV Accuracy With Sampling DT</td>\n",
       "      <td>0.867677</td>\n",
       "    </tr>\n",
       "    <tr>\n",
       "      <th>5</th>\n",
       "      <td>KFCV Accuracy With Sampling KNN</td>\n",
       "      <td>0.679471</td>\n",
       "    </tr>\n",
       "    <tr>\n",
       "      <th>6</th>\n",
       "      <td>SKFCV Accuracy With Sampling DT</td>\n",
       "      <td>0.875514</td>\n",
       "    </tr>\n",
       "    <tr>\n",
       "      <th>7</th>\n",
       "      <td>SKFCV Accuracy With Sampling KNN</td>\n",
       "      <td>0.739594</td>\n",
       "    </tr>\n",
       "    <tr>\n",
       "      <th>8</th>\n",
       "      <td>LOOCV Accuracy With Sampling DT</td>\n",
       "      <td>0.896069</td>\n",
       "    </tr>\n",
       "    <tr>\n",
       "      <th>9</th>\n",
       "      <td>LOOCV Accuracy With Sampling KNN</td>\n",
       "      <td>0.759507</td>\n",
       "    </tr>\n",
       "  </tbody>\n",
       "</table>\n",
       "</div>"
      ],
      "text/plain": [
       "                             Method  Accuracy\n",
       "0      Accuracy Without Sampling DT  0.702208\n",
       "1     Accuracy Without Sampling KNN  0.749527\n",
       "2    HOCV Accuracy With Sampling DT  0.853546\n",
       "3   HOCV Accuracy With Sampling KNN  0.732271\n",
       "4    KFCV Accuracy With Sampling DT  0.867677\n",
       "5   KFCV Accuracy With Sampling KNN  0.679471\n",
       "6   SKFCV Accuracy With Sampling DT  0.875514\n",
       "7  SKFCV Accuracy With Sampling KNN  0.739594\n",
       "8   LOOCV Accuracy With Sampling DT  0.896069\n",
       "9  LOOCV Accuracy With Sampling KNN  0.759507"
      ]
     },
     "execution_count": 123,
     "metadata": {},
     "output_type": "execute_result"
    }
   ],
   "source": [
    "accuracy_data = {\n",
    "    'Method': ['Accuracy Without Sampling DT', 'Accuracy Without Sampling KNN',\n",
    "               'HOCV Accuracy With Sampling DT', 'HOCV Accuracy With Sampling KNN',\n",
    "               'KFCV Accuracy With Sampling DT', 'KFCV Accuracy With Sampling KNN',\n",
    "               'SKFCV Accuracy With Sampling DT', 'SKFCV Accuracy With Sampling KNN',\n",
    "               'LOOCV Accuracy With Sampling DT', 'LOOCV Accuracy With Sampling KNN'],\n",
    "    'Accuracy': [Accuracy3, Accuracy4, Accuracy1, Accuracy2, Accuracy5.mean(), Accuracy6.mean(),\n",
    "                 Accuracy7.mean(), Accuracy8.mean(), Accuracy9.mean(), Accuracy10.mean()]\n",
    "}\n",
    "\n",
    "result_df = pd.DataFrame(accuracy_data)\n",
    "result_df"
   ]
  },
  {
   "cell_type": "code",
   "execution_count": 131,
   "id": "8f22c4ed",
   "metadata": {},
   "outputs": [
    {
     "data": {
      "image/png": "[encoded data removed]",
      "text/plain": [
       "<Figure size 1500x1000 with 1 Axes>"
      ]
     },
     "metadata": {},
     "output_type": "display_data"
    }
   ],
   "source": [
    "sns.set_style(\"white\", {'axes.facecolor': '#F8F6F4'})\n",
    "sns.set_palette(['#870A30','#DB1F48','#643A6B', '#FFAEBC', '#A0E7E5', '#B4F8C8', '#AAD6A0', '#FBE7C6', '#FFA384'])\n",
    "\n",
    "fig = plt.figure(figsize=(15, 10))\n",
    "fig.set_facecolor('#F8F6F4')\n",
    "\n",
    "ax = sns.barplot(x='Accuracy', y='Method', data=result_df)\n",
    "\n",
    "plt.title(\"Accuracy Comparison Bar-Plot\", color=\"#99627A\", fontsize=12)\n",
    "ax.set_xlabel('Accuracy', color='#99627A', fontsize=12)\n",
    "ax.set_ylabel('Method', color='#99627A', fontsize=12)\n",
    "\n",
    "plt.show()"
   ]
  },
  {
   "cell_type": "code",
   "execution_count": 132,
   "id": "b8532414",
   "metadata": {},
   "outputs": [],
   "source": [
    "#The End"
   ]
  }
 ],
 "metadata": {
  "kernelspec": {
   "display_name": "Python 3 (ipykernel)",
   "language": "python",
   "name": "python3"
  },
  "language_info": {
   "codemirror_mode": {
    "name": "ipython",
    "version": 3
   },
   "file_extension": ".py",
   "mimetype": "text/x-python",
   "name": "python",
   "nbconvert_exporter": "python",
   "pygments_lexer": "ipython3",
   "version": "3.11.3"
  }
 },
 "nbformat": 4,
 "nbformat_minor": 5
}
